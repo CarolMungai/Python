{
 "cells": [
  {
   "cell_type": "markdown",
   "metadata": {},
   "source": [
    "# Introduction to Pandas Series and DataFrames"
   ]
  },
  {
   "cell_type": "markdown",
   "metadata": {},
   "source": [
    "## Objectives"
   ]
  },
  {
   "cell_type": "markdown",
   "metadata": {},
   "source": [
    "* Understand Pandas Series and DataFrames\n",
    "* Creating Series and DataFrames\n",
    "* Basic Operations with Series \n",
    "* Exploring DataFrame Basics\n",
    "* Selecting Data from DataFrames\n",
    "* Applying Functions to Series and DataFrames"
   ]
  },
  {
   "cell_type": "markdown",
   "metadata": {},
   "source": [
    "## Loading Libraries"
   ]
  },
  {
   "cell_type": "code",
   "execution_count": 5,
   "metadata": {},
   "outputs": [],
   "source": [
    "# numpys - for arithmetic operations and high-level mathematical functions to operate on arrays\n",
    "import numpy as np\n",
    "# pandas - for working with relational or labeled data\n",
    "import pandas as pd "
   ]
  },
  {
   "cell_type": "markdown",
   "metadata": {},
   "source": [
    "## What is a Pandas Series?"
   ]
  },
  {
   "cell_type": "markdown",
   "metadata": {},
   "source": [
    "* **One-Dimensional** labeled Array capable of holding data on any type such as *intergers*, *string*, *float*, *python objects* etc.\n",
    "* A pandas series is like a column in a table.\n"
   ]
  },
  {
   "cell_type": "markdown",
   "metadata": {},
   "source": [
    "### Key features of a Pandas Series"
   ]
  },
  {
   "cell_type": "markdown",
   "metadata": {},
   "source": [
    "* **Homogeneous Data**: A Series Holds Data of a single data type(integer, float, string etc), ensuring homogeneity within the Series.\n",
    "* **Labeled Index**: Each element in a Series is associated with a label called an *index*. Having unique labels is a common practice, though not strictly required. The labels just need to be hashable types, ie they need to be used as keys in a dictionary. This index allows for easy and efficient data retrieval and manipulation.\n",
    "* **Vectorized Operations**: - Series support vectorized operations, ie you can apply operations to the entire series without the need for explicit loops.\n",
    "* **Alignment of Data**: - When performing operations on a Series, Pandas automatically aligns data based on index labels, which simplifies data manipulation.\n",
    "* **Creation**: - Can be created from a List, NumpyArrays, Dictionary, DataFrame slice and other data sources. "
   ]
  },
  {
   "cell_type": "code",
   "execution_count": 6,
   "metadata": {},
   "outputs": [
    {
     "data": {
      "text/plain": [
       "0    10\n",
       "1    20\n",
       "2    33\n",
       "3    42\n",
       "4    19\n",
       "5    30\n",
       "dtype: int64"
      ]
     },
     "execution_count": 6,
     "metadata": {},
     "output_type": "execute_result"
    }
   ],
   "source": [
    "# example of a series from a list \n",
    "marks = [10, 20, 33, 42, 19, 30]\n",
    "\n",
    "# series\n",
    "marks_series = pd.Series(marks)\n",
    "marks_series"
   ]
  },
  {
   "cell_type": "markdown",
   "metadata": {},
   "source": [
    "## Creating and Displaying"
   ]
  },
  {
   "cell_type": "code",
   "execution_count": 7,
   "metadata": {},
   "outputs": [
    {
     "data": {
      "text/plain": [
       "0    10.5\n",
       "1    11.2\n",
       "2    10.7\n",
       "3     9.9\n",
       "4    10.2\n",
       "Name: Student Marks, dtype: float64"
      ]
     },
     "execution_count": 7,
     "metadata": {},
     "output_type": "execute_result"
    }
   ],
   "source": [
    "# example 1 - Creating a series from a list\n",
    "data = [10.5, 11.2, 10.7, 9.9, 10.2]\n",
    "\n",
    "# series\n",
    "list_series = pd.Series(data, name=\"Student Marks\")\n",
    "list_series"
   ]
  },
  {
   "cell_type": "code",
   "execution_count": 8,
   "metadata": {},
   "outputs": [
    {
     "data": {
      "text/plain": [
       "pandas.core.series.Series"
      ]
     },
     "execution_count": 8,
     "metadata": {},
     "output_type": "execute_result"
    }
   ],
   "source": [
    "# data type \n",
    "type(list_series)"
   ]
  },
  {
   "cell_type": "code",
   "execution_count": 9,
   "metadata": {},
   "outputs": [
    {
     "data": {
      "text/plain": [
       "numpy.ndarray"
      ]
     },
     "execution_count": 9,
     "metadata": {},
     "output_type": "execute_result"
    }
   ],
   "source": [
    "# example 2 - Creating a series from a NumPy Array\n",
    "data_arr = np.array(data) # created an array from a list\n",
    "\n",
    "type(data_arr)"
   ]
  },
  {
   "cell_type": "code",
   "execution_count": 10,
   "metadata": {},
   "outputs": [
    {
     "data": {
      "text/plain": [
       "0    10.5\n",
       "1    11.2\n",
       "2    10.7\n",
       "3     9.9\n",
       "4    10.2\n",
       "Name: Array Series, dtype: float64"
      ]
     },
     "execution_count": 10,
     "metadata": {},
     "output_type": "execute_result"
    }
   ],
   "source": [
    "# series from array\n",
    "arr_series = pd.Series(data_arr, name=\"Array Series\")\n",
    "arr_series"
   ]
  },
  {
   "cell_type": "code",
   "execution_count": 11,
   "metadata": {},
   "outputs": [
    {
     "data": {
      "text/plain": [
       "dict"
      ]
     },
     "execution_count": 11,
     "metadata": {},
     "output_type": "execute_result"
    }
   ],
   "source": [
    "# example 3 - Series dictionary \n",
    "data_dict = {\n",
    "    \"Prof\" : 100,\n",
    "    \"Dominic\" : 250,\n",
    "    \"Carol\" : 300, \n",
    "    \"Eve\" : 450\n",
    "}\n",
    "\n",
    "type(data_dict)"
   ]
  },
  {
   "cell_type": "code",
   "execution_count": 12,
   "metadata": {},
   "outputs": [
    {
     "data": {
      "text/plain": [
       "Prof       100\n",
       "Dominic    250\n",
       "Carol      300\n",
       "Eve        450\n",
       "Name: Sky Team, dtype: int64"
      ]
     },
     "execution_count": 12,
     "metadata": {},
     "output_type": "execute_result"
    }
   ],
   "source": [
    "# series from dict\n",
    "dict_series = pd.Series(data_dict, name=\"Sky Team\")\n",
    "dict_series"
   ]
  },
  {
   "cell_type": "code",
   "execution_count": 13,
   "metadata": {},
   "outputs": [
    {
     "data": {
      "text/plain": [
       "300"
      ]
     },
     "execution_count": 13,
     "metadata": {},
     "output_type": "execute_result"
    }
   ],
   "source": [
    "dict_series['Carol']"
   ]
  },
  {
   "cell_type": "code",
   "execution_count": 14,
   "metadata": {},
   "outputs": [
    {
     "data": {
      "text/plain": [
       "A    1000\n",
       "B    1500\n",
       "C    2000\n",
       "D    4000\n",
       "Name: Balances, dtype: int64"
      ]
     },
     "execution_count": 14,
     "metadata": {},
     "output_type": "execute_result"
    }
   ],
   "source": [
    "# series with custom index labels\n",
    "balance = [1000, 1500, 2000, 4000] # data to store in the series\n",
    "custom_labels = ['A', 'B', 'C', 'D'] # custom indexes\n",
    "\n",
    "custom_label_series = pd.Series(data = balance, index=custom_labels, name='Balances')\n",
    "custom_label_series"
   ]
  },
  {
   "cell_type": "markdown",
   "metadata": {},
   "source": [
    "## Basic Operations With Series"
   ]
  },
  {
   "cell_type": "code",
   "execution_count": 15,
   "metadata": {},
   "outputs": [
    {
     "data": {
      "text/plain": [
       "0    10.5\n",
       "1    11.2\n",
       "2    10.7\n",
       "3     9.9\n",
       "4    10.2\n",
       "Name: Array Series, dtype: float64"
      ]
     },
     "execution_count": 15,
     "metadata": {},
     "output_type": "execute_result"
    }
   ],
   "source": [
    "arr_series"
   ]
  },
  {
   "cell_type": "code",
   "execution_count": 16,
   "metadata": {},
   "outputs": [
    {
     "name": "stdout",
     "output_type": "stream",
     "text": [
      "9.9\n"
     ]
    }
   ],
   "source": [
    "# accessing elements in a series \n",
    "print(arr_series[3])"
   ]
  },
  {
   "cell_type": "code",
   "execution_count": 17,
   "metadata": {},
   "outputs": [
    {
     "data": {
      "text/plain": [
       "Prof       100\n",
       "Dominic    250\n",
       "Carol      300\n",
       "Eve        450\n",
       "Name: Sky Team, dtype: int64"
      ]
     },
     "execution_count": 17,
     "metadata": {},
     "output_type": "execute_result"
    }
   ],
   "source": [
    "dict_series"
   ]
  },
  {
   "cell_type": "code",
   "execution_count": 18,
   "metadata": {},
   "outputs": [
    {
     "name": "stdout",
     "output_type": "stream",
     "text": [
      "300\n"
     ]
    }
   ],
   "source": [
    "# accessing elements in a series \n",
    "print(dict_series['Carol'])"
   ]
  },
  {
   "cell_type": "code",
   "execution_count": 19,
   "metadata": {},
   "outputs": [
    {
     "data": {
      "text/plain": [
       "A    1000\n",
       "B    1500\n",
       "C    2000\n",
       "D    4000\n",
       "Name: Balances, dtype: int64"
      ]
     },
     "execution_count": 19,
     "metadata": {},
     "output_type": "execute_result"
    }
   ],
   "source": [
    "custom_label_series"
   ]
  },
  {
   "cell_type": "code",
   "execution_count": 20,
   "metadata": {},
   "outputs": [
    {
     "name": "stdout",
     "output_type": "stream",
     "text": [
      "B    1500\n",
      "C    2000\n",
      "D    4000\n",
      "Name: Balances, dtype: int64\n"
     ]
    }
   ],
   "source": [
    "# accessing elemets in a series\n",
    "print(custom_label_series['B':'D'])"
   ]
  },
  {
   "cell_type": "code",
   "execution_count": 21,
   "metadata": {},
   "outputs": [
    {
     "data": {
      "text/plain": [
       "A    10.0\n",
       "B    15.0\n",
       "C    20.0\n",
       "D    40.0\n",
       "Name: Balances, dtype: float64"
      ]
     },
     "execution_count": 21,
     "metadata": {},
     "output_type": "execute_result"
    }
   ],
   "source": [
    "# arithmetic operations\n",
    "# convert balances into percentages \n",
    "x = custom_label_series / 100\n",
    "x"
   ]
  },
  {
   "cell_type": "code",
   "execution_count": 22,
   "metadata": {},
   "outputs": [
    {
     "data": {
      "text/plain": [
       "B    15.0\n",
       "C    20.0\n",
       "D    40.0\n",
       "Name: Balances, dtype: float64"
      ]
     },
     "execution_count": 22,
     "metadata": {},
     "output_type": "execute_result"
    }
   ],
   "source": [
    "# filter elements \n",
    "x_filtered = x[x >= 15]\n",
    "x_filtered"
   ]
  },
  {
   "cell_type": "code",
   "execution_count": 23,
   "metadata": {},
   "outputs": [
    {
     "data": {
      "text/plain": [
       "A    10.0\n",
       "B    15.0\n",
       "C    20.0\n",
       "D    40.0\n",
       "Name: Balances, dtype: float64"
      ]
     },
     "execution_count": 23,
     "metadata": {},
     "output_type": "execute_result"
    }
   ],
   "source": [
    "# basic summary statistics\n",
    "x"
   ]
  },
  {
   "cell_type": "code",
   "execution_count": 24,
   "metadata": {},
   "outputs": [
    {
     "name": "stdout",
     "output_type": "stream",
     "text": [
      "21.25\n"
     ]
    }
   ],
   "source": [
    "# mean \n",
    "mean = x.mean()\n",
    "print(mean)"
   ]
  },
  {
   "cell_type": "code",
   "execution_count": 25,
   "metadata": {},
   "outputs": [
    {
     "name": "stdout",
     "output_type": "stream",
     "text": [
      "13.149778198382917\n"
     ]
    }
   ],
   "source": [
    "# std \n",
    "std = x.std()\n",
    "print(std)"
   ]
  },
  {
   "cell_type": "code",
   "execution_count": 26,
   "metadata": {},
   "outputs": [
    {
     "name": "stdout",
     "output_type": "stream",
     "text": [
      "40.0\n"
     ]
    }
   ],
   "source": [
    "# max\n",
    "max = x.max()\n",
    "print(max)"
   ]
  },
  {
   "cell_type": "markdown",
   "metadata": {},
   "source": [
    "## Applying Functions to a Series "
   ]
  },
  {
   "cell_type": "markdown",
   "metadata": {},
   "source": [
    "### Lambda Functions"
   ]
  },
  {
   "cell_type": "markdown",
   "metadata": {},
   "source": [
    "* Small anonymous function that is not bound to an identifier.\n",
    "* Similar to user defined functions but without a name.\n",
    "* It's simple and straightfoward, requiring only the argument(s) and expression, alongside the keyword `lambda`.\n",
    "* They require only one line of code.\n",
    "\n",
    "```\n",
    "def func_name(parameters):\n",
    "    code block\n",
    "    \n",
    "    return return_value\n",
    "```\n",
    "\n",
    "`func = lamda parameters: return_value`\n",
    "\n",
    "* `lambda` : Keyword that indicates definition of a lambda function.\n",
    "* `parameters`: The input parameters that the lambda function will take.\n",
    "* `return_value`: A single expression that defines the compuation the lambda function performs and its return value "
   ]
  },
  {
   "cell_type": "code",
   "execution_count": 97,
   "metadata": {},
   "outputs": [
    {
     "data": {
      "text/plain": [
       "81"
      ]
     },
     "execution_count": 97,
     "metadata": {},
     "output_type": "execute_result"
    }
   ],
   "source": [
    "# lets compare the two\n",
    "# def is a key word, that tells python we are creating a user defined function\n",
    "#square is the name of the user defined function created\n",
    "# x is the parameter which stores the value to be used in the function\n",
    "\n",
    "def square(x):\n",
    "  # x is the parameter \n",
    "    \"\"\"Function to square numbers\"\"\"\n",
    "    out = x ** 2\n",
    "    \n",
    "    return out\n",
    "square(9)\n"
   ]
  },
  {
   "cell_type": "code",
   "execution_count": 98,
   "metadata": {},
   "outputs": [
    {
     "data": {
      "text/plain": [
       "25"
      ]
     },
     "execution_count": 98,
     "metadata": {},
     "output_type": "execute_result"
    }
   ],
   "source": [
    "# lamda function\n",
    "# lambda is a one line user defined function\n",
    "# square_lambda is a variable\n",
    "# x: is the parameter\n",
    "\n",
    "square_lambda = lambda x: x ** 2\n",
    "    \n",
    "square_lambda(5)\n"
   ]
  },
  {
   "cell_type": "code",
   "execution_count": 34,
   "metadata": {},
   "outputs": [
    {
     "data": {
      "text/plain": [
       "'Hello World'"
      ]
     },
     "execution_count": 34,
     "metadata": {},
     "output_type": "execute_result"
    }
   ],
   "source": [
    "# lambda function to print Hello world # example 2\n",
    "# print_hello is the function\n",
    "\n",
    "def print_hello():\n",
    "    y = 'Hello World'\n",
    "    \n",
    "    return y\n",
    "\n",
    "print_hello()"
   ]
  },
  {
   "cell_type": "code",
   "execution_count": 35,
   "metadata": {},
   "outputs": [
    {
     "data": {
      "text/plain": [
       "'Hello world'"
      ]
     },
     "execution_count": 35,
     "metadata": {},
     "output_type": "execute_result"
    }
   ],
   "source": [
    "# lambda function to print Hello world # example 3\n",
    "\n",
    "letter = lambda : 'Hello world'\n",
    "\n",
    "letter()"
   ]
  },
  {
   "cell_type": "code",
   "execution_count": 38,
   "metadata": {},
   "outputs": [
    {
     "data": {
      "text/plain": [
       "'Odd'"
      ]
     },
     "execution_count": 38,
     "metadata": {},
     "output_type": "execute_result"
    }
   ],
   "source": [
    "# example 4\n",
    "\n",
    "def even_odd(number: int):\n",
    "    \"\"\"Check if a number is even or odd\"\"\"\n",
    "    \n",
    "    if (number % 2 == 0):\n",
    "        return 'Even'\n",
    "    else:\n",
    "        return 'Odd'\n",
    "    \n",
    "even_odd(7)\n",
    "    "
   ]
  },
  {
   "cell_type": "code",
   "execution_count": 99,
   "metadata": {},
   "outputs": [
    {
     "data": {
      "text/plain": [
       "2.3333333333333335"
      ]
     },
     "execution_count": 99,
     "metadata": {},
     "output_type": "execute_result"
    }
   ],
   "source": [
    "7/3"
   ]
  },
  {
   "cell_type": "code",
   "execution_count": 100,
   "metadata": {},
   "outputs": [
    {
     "data": {
      "text/plain": [
       "1"
      ]
     },
     "execution_count": 100,
     "metadata": {},
     "output_type": "execute_result"
    }
   ],
   "source": [
    "7%3"
   ]
  },
  {
   "cell_type": "code",
   "execution_count": 101,
   "metadata": {},
   "outputs": [
    {
     "data": {
      "text/plain": [
       "2"
      ]
     },
     "execution_count": 101,
     "metadata": {},
     "output_type": "execute_result"
    }
   ],
   "source": [
    "7//3"
   ]
  },
  {
   "cell_type": "code",
   "execution_count": 42,
   "metadata": {},
   "outputs": [
    {
     "data": {
      "text/plain": [
       "'Odd'"
      ]
     },
     "execution_count": 42,
     "metadata": {},
     "output_type": "execute_result"
    }
   ],
   "source": [
    "# example 5 of example 4 in lambda\n",
    "# lambda is the key word\n",
    "# key word instruct python on what to expect\n",
    "\n",
    "even_odd_lambda = lambda number : 'Even' if (number % 2 == 0) else 'Odd'\n",
    "\n",
    "even_odd_lambda(7)"
   ]
  },
  {
   "cell_type": "code",
   "execution_count": 43,
   "metadata": {},
   "outputs": [
    {
     "data": {
      "text/plain": [
       "'Even'"
      ]
     },
     "execution_count": 43,
     "metadata": {},
     "output_type": "execute_result"
    }
   ],
   "source": [
    "# example 6 of example 5 in lambda\n",
    "\n",
    "even_odd_lambda = lambda number : 'Even' if (number % 2 == 0) else 'Odd'\n",
    "\n",
    "even_odd_lambda(8)"
   ]
  },
  {
   "cell_type": "markdown",
   "metadata": {},
   "source": [
    "### Generate Random Numbers"
   ]
  },
  {
   "cell_type": "markdown",
   "metadata": {},
   "source": [
    "* Using `NumPy` library to generate random Numbers.\n"
   ]
  },
  {
   "cell_type": "code",
   "execution_count": 52,
   "metadata": {},
   "outputs": [],
   "source": [
    "# generate random numbers # example 1\n",
    "\n",
    "random_numbers = np.random.randint(3, 99, size=120)\n"
   ]
  },
  {
   "cell_type": "code",
   "execution_count": 53,
   "metadata": {},
   "outputs": [
    {
     "data": {
      "text/plain": [
       "array([48, 33, 27, 24, 63, 28, 67, 60, 10, 90, 12, 62, 88, 95, 35, 49, 85,\n",
       "       52, 65, 83, 79, 25,  4, 56, 75, 37, 68, 72, 83, 96, 40,  7, 96, 55,\n",
       "        7, 98, 55,  5, 17, 13, 39, 48, 80, 27, 84, 10, 34, 39, 60, 85, 62,\n",
       "       19, 44, 23,  3, 51, 96,  3, 94, 85, 26, 71, 96, 41, 32, 77, 75, 74,\n",
       "       46, 96,  6, 61, 16, 67,  3, 40, 74, 13, 53, 69, 59, 41, 32, 22, 70,\n",
       "       73, 81,  4, 92, 66, 58, 64, 79, 97, 42,  8, 93, 32, 57, 90, 43, 24,\n",
       "       29, 47, 11, 83, 47, 17, 74,  7, 80, 97, 98, 55, 54, 51, 76, 81, 90,\n",
       "        8])"
      ]
     },
     "execution_count": 53,
     "metadata": {},
     "output_type": "execute_result"
    }
   ],
   "source": [
    "# display random numbers of example 1\n",
    "random_numbers"
   ]
  },
  {
   "cell_type": "code",
   "execution_count": 54,
   "metadata": {},
   "outputs": [
    {
     "data": {
      "text/plain": [
       "0      48\n",
       "1      33\n",
       "2      27\n",
       "3      24\n",
       "4      63\n",
       "       ..\n",
       "115    51\n",
       "116    76\n",
       "117    81\n",
       "118    90\n",
       "119     8\n",
       "Name: Numbers, Length: 120, dtype: int32"
      ]
     },
     "execution_count": 54,
     "metadata": {},
     "output_type": "execute_result"
    }
   ],
   "source": [
    "# create a series # example 1\n",
    "\n",
    "numbers = pd.Series(random_numbers, name=\"Numbers\")\n",
    "numbers"
   ]
  },
  {
   "cell_type": "code",
   "execution_count": 55,
   "metadata": {},
   "outputs": [],
   "source": [
    "# generate random numbers # example 2 of 1\n",
    "\n",
    "random_numbers = np.random.randint(3, 99, size=20)\n"
   ]
  },
  {
   "cell_type": "code",
   "execution_count": 56,
   "metadata": {},
   "outputs": [
    {
     "data": {
      "text/plain": [
       "array([20, 83,  8, 78, 97,  6, 73, 17, 57, 28, 26, 43, 12, 11, 84, 70, 38,\n",
       "       19, 35, 64])"
      ]
     },
     "execution_count": 56,
     "metadata": {},
     "output_type": "execute_result"
    }
   ],
   "source": [
    "# display random numbers of example 2\n",
    "\n",
    "random_numbers"
   ]
  },
  {
   "cell_type": "code",
   "execution_count": 57,
   "metadata": {},
   "outputs": [
    {
     "data": {
      "text/plain": [
       "0     20\n",
       "1     83\n",
       "2      8\n",
       "3     78\n",
       "4     97\n",
       "5      6\n",
       "6     73\n",
       "7     17\n",
       "8     57\n",
       "9     28\n",
       "10    26\n",
       "11    43\n",
       "12    12\n",
       "13    11\n",
       "14    84\n",
       "15    70\n",
       "16    38\n",
       "17    19\n",
       "18    35\n",
       "19    64\n",
       "Name: Numbers, dtype: int32"
      ]
     },
     "execution_count": 57,
     "metadata": {},
     "output_type": "execute_result"
    }
   ],
   "source": [
    "# create a series # example 2\n",
    "\n",
    "numbers = pd.Series(random_numbers, name=\"Numbers\")\n",
    "numbers"
   ]
  },
  {
   "cell_type": "code",
   "execution_count": 60,
   "metadata": {},
   "outputs": [
    {
     "data": {
      "text/plain": [
       "0    20\n",
       "1    83\n",
       "2     8\n",
       "3    78\n",
       "4    97\n",
       "Name: Numbers, dtype: int32"
      ]
     },
     "execution_count": 60,
     "metadata": {},
     "output_type": "execute_result"
    }
   ],
   "source": [
    "# display the first five rows of the series\n",
    "\n",
    "numbers.head()"
   ]
  },
  {
   "cell_type": "code",
   "execution_count": 61,
   "metadata": {},
   "outputs": [
    {
     "data": {
      "text/plain": [
       "0    20\n",
       "1    83\n",
       "2     8\n",
       "3    78\n",
       "4    97\n",
       "5     6\n",
       "6    73\n",
       "Name: Numbers, dtype: int32"
      ]
     },
     "execution_count": 61,
     "metadata": {},
     "output_type": "execute_result"
    }
   ],
   "source": [
    "numbers.head(7)"
   ]
  },
  {
   "cell_type": "code",
   "execution_count": 62,
   "metadata": {},
   "outputs": [
    {
     "data": {
      "text/plain": [
       "15    70\n",
       "16    38\n",
       "17    19\n",
       "18    35\n",
       "19    64\n",
       "Name: Numbers, dtype: int32"
      ]
     },
     "execution_count": 62,
     "metadata": {},
     "output_type": "execute_result"
    }
   ],
   "source": [
    "# display last five rows\n",
    "\n",
    "numbers.tail()"
   ]
  },
  {
   "cell_type": "code",
   "execution_count": 63,
   "metadata": {},
   "outputs": [
    {
     "data": {
      "text/plain": [
       "11    43\n",
       "12    12\n",
       "13    11\n",
       "14    84\n",
       "15    70\n",
       "16    38\n",
       "17    19\n",
       "18    35\n",
       "19    64\n",
       "Name: Numbers, dtype: int32"
      ]
     },
     "execution_count": 63,
     "metadata": {},
     "output_type": "execute_result"
    }
   ],
   "source": [
    "numbers.tail(9)"
   ]
  },
  {
   "cell_type": "markdown",
   "metadata": {},
   "source": [
    "### Using the `apply()` Function in a Series\n",
    "\n",
    "* It's a powerful way to transform and analyze the data within the series.\n",
    "* Above we have generate a series of random numbers, and created a function called `square` that takes in an int, squares it and return the value. Lets apply that function to the series."
   ]
  },
  {
   "cell_type": "code",
   "execution_count": 65,
   "metadata": {},
   "outputs": [
    {
     "data": {
      "text/plain": [
       "16"
      ]
     },
     "execution_count": 65,
     "metadata": {},
     "output_type": "execute_result"
    }
   ],
   "source": [
    "# reminder of function square\n",
    "\n",
    "square(4)"
   ]
  },
  {
   "cell_type": "code",
   "execution_count": 66,
   "metadata": {},
   "outputs": [
    {
     "data": {
      "text/plain": [
       "15    4900\n",
       "16    1444\n",
       "17     361\n",
       "18    1225\n",
       "19    4096\n",
       "Name: Numbers, dtype: int64"
      ]
     },
     "execution_count": 66,
     "metadata": {},
     "output_type": "execute_result"
    }
   ],
   "source": [
    "# square the series random numbers \n",
    "\n",
    "squared_numbers = numbers.apply(square)\n",
    "squared_numbers.tail()"
   ]
  },
  {
   "cell_type": "code",
   "execution_count": 70,
   "metadata": {},
   "outputs": [
    {
     "data": {
      "text/plain": [
       "0     400\n",
       "1    6889\n",
       "2      64\n",
       "3    6084\n",
       "4    9409\n",
       "Name: Squared Numbers, dtype: int64"
      ]
     },
     "execution_count": 70,
     "metadata": {},
     "output_type": "execute_result"
    }
   ],
   "source": [
    "# use .rename to rename the series\n",
    "\n",
    "squared_numbers.rename('Squared Numbers', inplace=True) # inplace =True - this makes the changes permanent\n",
    "squared_numbers.head()"
   ]
  },
  {
   "cell_type": "markdown",
   "metadata": {},
   "source": [
    "### `lambda` function with `apply()`"
   ]
  },
  {
   "cell_type": "code",
   "execution_count": 71,
   "metadata": {},
   "outputs": [
    {
     "data": {
      "text/plain": [
       "0      8000\n",
       "1    571787\n",
       "2       512\n",
       "3    474552\n",
       "4    912673\n",
       "Name: Numbers, dtype: int64"
      ]
     },
     "execution_count": 71,
     "metadata": {},
     "output_type": "execute_result"
    }
   ],
   "source": [
    "# Cube the numbers using lambda and apply\n",
    "\n",
    "cubed_numbers = numbers.apply(lambda j:j ** 3)\n",
    "cubed_numbers.head()\n"
   ]
  },
  {
   "cell_type": "code",
   "execution_count": 72,
   "metadata": {},
   "outputs": [
    {
     "data": {
      "text/plain": [
       "0      8000\n",
       "1    571787\n",
       "2       512\n",
       "3    474552\n",
       "4    912673\n",
       "Name: Cubed Numbers, dtype: int64"
      ]
     },
     "execution_count": 72,
     "metadata": {},
     "output_type": "execute_result"
    }
   ],
   "source": [
    "# rename the series\n",
    "\n",
    "cubed_numbers.rename('Cubed Numbers', inplace=True)\n",
    "cubed_numbers.head()"
   ]
  },
  {
   "cell_type": "markdown",
   "metadata": {},
   "source": [
    "### Using the `map()` Function in a series"
   ]
  },
  {
   "cell_type": "markdown",
   "metadata": {},
   "source": [
    "* Used to substitute each value in a Series with another value creating a convenient way to transform the values in a Series."
   ]
  },
  {
   "cell_type": "code",
   "execution_count": 74,
   "metadata": {},
   "outputs": [
    {
     "data": {
      "text/plain": [
       "'Underweight'"
      ]
     },
     "execution_count": 74,
     "metadata": {},
     "output_type": "execute_result"
    }
   ],
   "source": [
    "def bmi_value(x):\n",
    "    if x <= 43:\n",
    "        return 'Underweight'\n",
    "    else:\n",
    "        return 'Overweight'\n",
    "    \n",
    "bmi_value(20)"
   ]
  },
  {
   "cell_type": "code",
   "execution_count": 78,
   "metadata": {},
   "outputs": [
    {
     "data": {
      "text/plain": [
       "0    Underweight\n",
       "1     Overweight\n",
       "2    Underweight\n",
       "3     Overweight\n",
       "4     Overweight\n",
       "5    Underweight\n",
       "6     Overweight\n",
       "7    Underweight\n",
       "8     Overweight\n",
       "9    Underweight\n",
       "Name: Numbers, dtype: object"
      ]
     },
     "execution_count": 78,
     "metadata": {},
     "output_type": "execute_result"
    }
   ],
   "source": [
    "# map our random numbers as underweight or overweight\n",
    "\n",
    "bmi_series = numbers.map(bmi_value)\n",
    "bmi_series.head(10)\n"
   ]
  },
  {
   "cell_type": "code",
   "execution_count": 79,
   "metadata": {},
   "outputs": [
    {
     "data": {
      "text/plain": [
       "0    Underweight\n",
       "1     Overweight\n",
       "2    Underweight\n",
       "3     Overweight\n",
       "4     Overweight\n",
       "Name: BMI, dtype: object"
      ]
     },
     "execution_count": 79,
     "metadata": {},
     "output_type": "execute_result"
    }
   ],
   "source": [
    "bmi_series.rename('BMI', inplace=True)\n",
    "bmi_series.head()"
   ]
  },
  {
   "cell_type": "markdown",
   "metadata": {},
   "source": [
    "### `lambda` function with `map()`"
   ]
  },
  {
   "cell_type": "code",
   "execution_count": 80,
   "metadata": {},
   "outputs": [
    {
     "data": {
      "text/plain": [
       "0     40\n",
       "1    166\n",
       "2     16\n",
       "3    156\n",
       "4    194\n",
       "Name: Numbers, dtype: int64"
      ]
     },
     "execution_count": 80,
     "metadata": {},
     "output_type": "execute_result"
    }
   ],
   "source": [
    "# use lamda function with map() to double each number\n",
    "\n",
    "double_number = numbers.map(lambda y: y* 2)\n",
    "double_number.head()"
   ]
  },
  {
   "cell_type": "code",
   "execution_count": 81,
   "metadata": {},
   "outputs": [
    {
     "data": {
      "text/plain": [
       "0     40\n",
       "1    166\n",
       "2     16\n",
       "3    156\n",
       "4    194\n",
       "Name: Double Number, dtype: int64"
      ]
     },
     "execution_count": 81,
     "metadata": {},
     "output_type": "execute_result"
    }
   ],
   "source": [
    "# rename the series\n",
    "\n",
    "double_number.rename('Double Number', inplace=True)\n",
    "double_number.head()"
   ]
  },
  {
   "cell_type": "markdown",
   "metadata": {},
   "source": [
    "### `lamda` function with Conditional Statement"
   ]
  },
  {
   "cell_type": "code",
   "execution_count": 92,
   "metadata": {},
   "outputs": [
    {
     "data": {
      "text/plain": [
       "15    Even\n",
       "16    Even\n",
       "17     Odd\n",
       "18     Odd\n",
       "19    Even\n",
       "Name: Numbers, dtype: object"
      ]
     },
     "execution_count": 92,
     "metadata": {},
     "output_type": "execute_result"
    }
   ],
   "source": [
    "# are the random numbers even or odd\n",
    "\n",
    "even_odd_series = numbers.apply(lambda k: 'Even' if (k % 2 == 0) else 'Odd')\n",
    "even_odd_series.tail()"
   ]
  },
  {
   "cell_type": "code",
   "execution_count": null,
   "metadata": {},
   "outputs": [],
   "source": [
    "even_odd_lambda = lambda number : 'Even' if (number % 2 == 0) else 'Odd'\n",
    "\n",
    "even_odd_lambda(8)"
   ]
  },
  {
   "cell_type": "code",
   "execution_count": 94,
   "metadata": {},
   "outputs": [
    {
     "data": {
      "text/plain": [
       "0    Even\n",
       "1     Odd\n",
       "2    Even\n",
       "3    Even\n",
       "4     Odd\n",
       "Name: Even/Odd, dtype: object"
      ]
     },
     "execution_count": 94,
     "metadata": {},
     "output_type": "execute_result"
    }
   ],
   "source": [
    "# rename the series\n",
    "\n",
    "even_odd_series.rename('Even/Odd', inplace=True)\n",
    "even_odd_series.head()"
   ]
  },
  {
   "cell_type": "markdown",
   "metadata": {},
   "source": [
    "## Series to DataFrame "
   ]
  },
  {
   "cell_type": "markdown",
   "metadata": {},
   "source": [
    "* `if` a **Series** is a *table* with a single column, `elif` a **DataFrame** is a *table* with two or more columns."
   ]
  },
  {
   "cell_type": "code",
   "execution_count": 84,
   "metadata": {},
   "outputs": [
    {
     "name": "stdout",
     "output_type": "stream",
     "text": [
      "Numbers\n",
      "Squared Numbers\n"
     ]
    }
   ],
   "source": [
    "# lets convert all the series we created into a dataframe\n",
    "\n",
    "print(numbers.name)\n",
    "\n",
    "print(squared_numbers.name)"
   ]
  },
  {
   "cell_type": "code",
   "execution_count": 95,
   "metadata": {},
   "outputs": [
    {
     "data": {
      "text/html": [
       "<div>\n",
       "<style scoped>\n",
       "    .dataframe tbody tr th:only-of-type {\n",
       "        vertical-align: middle;\n",
       "    }\n",
       "\n",
       "    .dataframe tbody tr th {\n",
       "        vertical-align: top;\n",
       "    }\n",
       "\n",
       "    .dataframe thead th {\n",
       "        text-align: right;\n",
       "    }\n",
       "</style>\n",
       "<table border=\"1\" class=\"dataframe\">\n",
       "  <thead>\n",
       "    <tr style=\"text-align: right;\">\n",
       "      <th></th>\n",
       "      <th>Numbers</th>\n",
       "      <th>Double Number</th>\n",
       "      <th>Squared Numbers</th>\n",
       "      <th>Cubed Numbers</th>\n",
       "      <th>BMI</th>\n",
       "      <th>Even/Odd</th>\n",
       "    </tr>\n",
       "  </thead>\n",
       "  <tbody>\n",
       "    <tr>\n",
       "      <th>0</th>\n",
       "      <td>20</td>\n",
       "      <td>40</td>\n",
       "      <td>400</td>\n",
       "      <td>8000</td>\n",
       "      <td>Underweight</td>\n",
       "      <td>Even</td>\n",
       "    </tr>\n",
       "    <tr>\n",
       "      <th>1</th>\n",
       "      <td>83</td>\n",
       "      <td>166</td>\n",
       "      <td>6889</td>\n",
       "      <td>571787</td>\n",
       "      <td>Overweight</td>\n",
       "      <td>Odd</td>\n",
       "    </tr>\n",
       "    <tr>\n",
       "      <th>2</th>\n",
       "      <td>8</td>\n",
       "      <td>16</td>\n",
       "      <td>64</td>\n",
       "      <td>512</td>\n",
       "      <td>Underweight</td>\n",
       "      <td>Even</td>\n",
       "    </tr>\n",
       "    <tr>\n",
       "      <th>3</th>\n",
       "      <td>78</td>\n",
       "      <td>156</td>\n",
       "      <td>6084</td>\n",
       "      <td>474552</td>\n",
       "      <td>Overweight</td>\n",
       "      <td>Even</td>\n",
       "    </tr>\n",
       "    <tr>\n",
       "      <th>4</th>\n",
       "      <td>97</td>\n",
       "      <td>194</td>\n",
       "      <td>9409</td>\n",
       "      <td>912673</td>\n",
       "      <td>Overweight</td>\n",
       "      <td>Odd</td>\n",
       "    </tr>\n",
       "  </tbody>\n",
       "</table>\n",
       "</div>"
      ],
      "text/plain": [
       "   Numbers  Double Number  Squared Numbers  Cubed Numbers          BMI  \\\n",
       "0       20             40              400           8000  Underweight   \n",
       "1       83            166             6889         571787   Overweight   \n",
       "2        8             16               64            512  Underweight   \n",
       "3       78            156             6084         474552   Overweight   \n",
       "4       97            194             9409         912673   Overweight   \n",
       "\n",
       "  Even/Odd  \n",
       "0     Even  \n",
       "1      Odd  \n",
       "2     Even  \n",
       "3     Even  \n",
       "4      Odd  "
      ]
     },
     "execution_count": 95,
     "metadata": {},
     "output_type": "execute_result"
    }
   ],
   "source": [
    "# creating a dataframe\n",
    "\n",
    "test_df = pd.DataFrame({\n",
    "    numbers.name: numbers,\n",
    "    double_number.name: double_number,\n",
    "    squared_numbers.name : squared_numbers,\n",
    "    cubed_numbers.name : cubed_numbers,\n",
    "    bmi_series.name : bmi_series,\n",
    "    even_odd_series.name : even_odd_series\n",
    "})\n",
    "\n",
    "test_df.head()"
   ]
  },
  {
   "cell_type": "markdown",
   "metadata": {},
   "source": [
    "## Knock Yourself Out!"
   ]
  },
  {
   "cell_type": "markdown",
   "metadata": {},
   "source": [
    "You work as a real estate agent at *MoringaHome Realty*. To assist your clients in making informed decisions about property investment, you decide to analyze property data using Pandas. \n",
    "1. Generate 120 random numbers between  Ksh 4000 and Ksh 20,000 using numpy to represent the prices of the houses. \n",
    "2. Display the first and last 7 houses.\n",
    "3. Create a function that will take in the price of the house and return the category of that house, eg Suburb. The category is of your own series.\n",
    "4. Apply the function created above to the series.\n",
    "6. Apply a lambda function to increase the property prices by 10% due to the new tax laws.\n",
    "7. Apply a custom function to increase the property prices by and additional Ksh 250 for garbage. \n",
    "8. Create a new Series for each step and Finally Combine them all into a DataFrame name 'Moringa_property'."
   ]
  },
  {
   "cell_type": "code",
   "execution_count": 10,
   "metadata": {},
   "outputs": [
    {
     "data": {
      "text/plain": [
       "array([19740, 18639, 15261, 11234, 19855, 12470, 18275,  5699, 10697,\n",
       "        8128, 16176, 10966,  8075, 14690,  8626,  5577, 19916, 16303,\n",
       "       18061, 13557,  7264, 14160, 14834,  5026,  8551, 12326, 13709,\n",
       "       18677, 17626, 11896, 12626, 10192, 15980, 15781,  9922,  7095,\n",
       "       10521,  8456, 13400, 18800, 19527,  4636, 10919, 17432, 17883,\n",
       "        4249, 11366, 13089,  4252,  9062, 16163,  4893, 13311,  8755,\n",
       "       18483,  6747, 12021,  6529, 17875, 11314, 10424,  9531, 17250,\n",
       "       12912,  9762, 18336, 12166, 11853, 18891, 17648,  8320, 12887,\n",
       "        7606,  8674, 18497, 19688,  8171,  5021, 12630, 16266, 17146,\n",
       "       16808,  7314,  4192,  4902, 17525,  5190, 11033, 12634, 10718,\n",
       "       16343,  4298,  6243, 12779,  8456, 18304, 11392,  5180, 17759,\n",
       "       13800, 17356, 13138,  7438,  5866, 19828, 14076, 11906, 16031,\n",
       "       11288,  7009, 11467,  7427,  9388, 14761, 19658, 12945,  6376,\n",
       "       19433,  5235, 19431])"
      ]
     },
     "execution_count": 10,
     "metadata": {},
     "output_type": "execute_result"
    }
   ],
   "source": [
    "# Question 1: Generate 120 random numbers between Ksh 4000 and Ksh 20,000 using numpy to represent the prices of the houses.\n",
    "\n",
    "import numpy as np\n",
    "import pandas as pd\n",
    "\n",
    "property_prices = np.random.randint(4000, 20001, 120)\n",
    "property_prices"
   ]
  },
  {
   "cell_type": "code",
   "execution_count": 11,
   "metadata": {},
   "outputs": [
    {
     "data": {
      "text/plain": [
       "0    19740\n",
       "1    18639\n",
       "2    15261\n",
       "3    11234\n",
       "4    19855\n",
       "5    12470\n",
       "6    18275\n",
       "dtype: int32"
      ]
     },
     "execution_count": 11,
     "metadata": {},
     "output_type": "execute_result"
    }
   ],
   "source": [
    "# Question 2: Display the first 7 houses.\n",
    "\n",
    "property_prices_series = pd.Series(property_prices)\n",
    "property_prices_series.head(7)"
   ]
  },
  {
   "cell_type": "code",
   "execution_count": 12,
   "metadata": {},
   "outputs": [
    {
     "data": {
      "text/plain": [
       "113    14761\n",
       "114    19658\n",
       "115    12945\n",
       "116     6376\n",
       "117    19433\n",
       "118     5235\n",
       "119    19431\n",
       "dtype: int32"
      ]
     },
     "execution_count": 12,
     "metadata": {},
     "output_type": "execute_result"
    }
   ],
   "source": [
    "# Question 2: Display the last 7 houses.\n",
    "\n",
    "property_prices_series.tail(7)"
   ]
  },
  {
   "cell_type": "code",
   "execution_count": 13,
   "metadata": {},
   "outputs": [],
   "source": [
    "# Question 3: Create a function that will take in the price of the house and return the category of that house, eg Suburb. The category is of your own series.\n",
    "\n",
    "def property_category(price):\n",
    "    \"\"\"\n",
    "    Function that takes in the price \n",
    "    of the house and returns the category of that house, eg Suburb.\n",
    "    \"\"\"\n",
    "    if price < 3000:\n",
    "        return \"low_cost\"\n",
    "    elif (3000 <= price) and (price < 10000):\n",
    "        return \"average_cost\"\n",
    "    elif (10000 <= price) and (price < 30000):\n",
    "        return \"mid_cost\"\n",
    "    elif (30000 <= price) and (price < 100000):\n",
    "        return \"high_cost\"\n",
    "    else:\n",
    "        return \"living_large\"\n",
    "    "
   ]
  },
  {
   "cell_type": "code",
   "execution_count": 33,
   "metadata": {},
   "outputs": [
    {
     "data": {
      "text/plain": [
       "0    mid_cost\n",
       "1    mid_cost\n",
       "2    mid_cost\n",
       "3    mid_cost\n",
       "4    mid_cost\n",
       "dtype: object"
      ]
     },
     "execution_count": 33,
     "metadata": {},
     "output_type": "execute_result"
    }
   ],
   "source": [
    "# Question 4: Apply the function created above to the series.\n",
    "\n",
    "property_per_category = property_prices_series.apply(property_category)\n",
    "property_per_category.head()"
   ]
  },
  {
   "cell_type": "code",
   "execution_count": 26,
   "metadata": {},
   "outputs": [
    {
     "data": {
      "text/plain": [
       "0    21714.0\n",
       "1    20502.9\n",
       "2    16787.1\n",
       "3    12357.4\n",
       "4    21840.5\n",
       "dtype: float64"
      ]
     },
     "execution_count": 26,
     "metadata": {},
     "output_type": "execute_result"
    }
   ],
   "source": [
    "# Question 5: Apply a lambda function to increase the property prices by 10% due to the new tax laws.\n",
    "\n",
    "taxed_property_prices = property_prices_series.apply(lambda x: x +(x*0.1))\n",
    "taxed_property_prices.head()"
   ]
  },
  {
   "cell_type": "code",
   "execution_count": 39,
   "metadata": {},
   "outputs": [],
   "source": [
    "# Question 6: Apply a custom function to increase the property prices by and additional Ksh 250 for garbage.\n",
    "\n",
    "def taxed_property_prices():\n",
    "   \n",
    "    garbage_fee = 250\n",
    "    garbage = taxed_property_prices + garbage_fee\n",
    "\n",
    "    return garbage"
   ]
  },
  {
   "cell_type": "code",
   "execution_count": 43,
   "metadata": {},
   "outputs": [
    {
     "ename": "TypeError",
     "evalue": "unsupported operand type(s) for +: 'function' and 'int'",
     "output_type": "error",
     "traceback": [
      "\u001b[1;31m---------------------------------------------------------------------------\u001b[0m",
      "\u001b[1;31mTypeError\u001b[0m                                 Traceback (most recent call last)",
      "Cell \u001b[1;32mIn[43], line 1\u001b[0m\n\u001b[1;32m----> 1\u001b[0m taxed_property_prices_garbage \u001b[38;5;241m=\u001b[39m taxed_property_prices()\n\u001b[0;32m      2\u001b[0m taxed_property_prices_garbage\u001b[38;5;241m.\u001b[39mhead()\n",
      "Cell \u001b[1;32mIn[39], line 6\u001b[0m, in \u001b[0;36mtaxed_property_prices\u001b[1;34m()\u001b[0m\n\u001b[0;32m      3\u001b[0m \u001b[38;5;28;01mdef\u001b[39;00m \u001b[38;5;21mtaxed_property_prices\u001b[39m():\n\u001b[0;32m      5\u001b[0m     garbage_fee \u001b[38;5;241m=\u001b[39m \u001b[38;5;241m250\u001b[39m\n\u001b[1;32m----> 6\u001b[0m     garbage \u001b[38;5;241m=\u001b[39m taxed_property_prices \u001b[38;5;241m+\u001b[39m garbage_fee\n\u001b[0;32m      8\u001b[0m     \u001b[38;5;28;01mreturn\u001b[39;00m garbage\n",
      "\u001b[1;31mTypeError\u001b[0m: unsupported operand type(s) for +: 'function' and 'int'"
     ]
    }
   ],
   "source": [
    "\n",
    "taxed_property_prices_garbage = taxed_property_prices()\n",
    "taxed_property_prices_garbage.head()\n"
   ]
  },
  {
   "cell_type": "code",
   "execution_count": 52,
   "metadata": {},
   "outputs": [
    {
     "ename": "NameError",
     "evalue": "name 'taxed_property_prices_garbage' is not defined",
     "output_type": "error",
     "traceback": [
      "\u001b[1;31m---------------------------------------------------------------------------\u001b[0m",
      "\u001b[1;31mNameError\u001b[0m                                 Traceback (most recent call last)",
      "Cell \u001b[1;32mIn[52], line 17\u001b[0m\n\u001b[0;32m      1\u001b[0m \u001b[38;5;66;03m# Question 7: Create a new Series for each step and Finally Combine them all into a DataFrame name 'Moringa_property'.\u001b[39;00m\n\u001b[0;32m      2\u001b[0m \n\u001b[0;32m      3\u001b[0m \u001b[38;5;66;03m#Moringa_property = pd.DataFrame({\u001b[39;00m\n\u001b[1;32m   (...)\u001b[0m\n\u001b[0;32m     10\u001b[0m \n\u001b[0;32m     11\u001b[0m \u001b[38;5;66;03m#Moringa_property.head(23)\u001b[39;00m\n\u001b[0;32m     13\u001b[0m data \u001b[38;5;241m=\u001b[39m {\n\u001b[0;32m     14\u001b[0m     \u001b[38;5;124m'\u001b[39m\u001b[38;5;124mProperty Prices\u001b[39m\u001b[38;5;124m'\u001b[39m: property_prices,\n\u001b[0;32m     15\u001b[0m     \u001b[38;5;124m'\u001b[39m\u001b[38;5;124mProperty Categories\u001b[39m\u001b[38;5;124m'\u001b[39m: property_per_category,\n\u001b[0;32m     16\u001b[0m     \u001b[38;5;124m'\u001b[39m\u001b[38;5;124mTaxed Prices\u001b[39m\u001b[38;5;124m'\u001b[39m: taxed_property_prices,\n\u001b[1;32m---> 17\u001b[0m     \u001b[38;5;124m'\u001b[39m\u001b[38;5;124mTaxed with Garbage Prices\u001b[39m\u001b[38;5;124m'\u001b[39m: taxed_property_prices_garbage\n\u001b[0;32m     18\u001b[0m }\n\u001b[0;32m     21\u001b[0m Moringa_property \u001b[38;5;241m=\u001b[39m pd\u001b[38;5;241m.\u001b[39mDataFrame(data)\n\u001b[0;32m     23\u001b[0m \u001b[38;5;28mprint\u001b[39m(\u001b[38;5;124m\"\u001b[39m\u001b[38;5;130;01m\\n\u001b[39;00m\u001b[38;5;124mMoringa_property:\u001b[39m\u001b[38;5;124m\"\u001b[39m)\n",
      "\u001b[1;31mNameError\u001b[0m: name 'taxed_property_prices_garbage' is not defined"
     ]
    }
   ],
   "source": [
    "# Question 7: Create a new Series for each step and Finally Combine them all into a DataFrame name 'Moringa_property'.\n",
    "\n",
    "data = {\n",
    "    'Property Prices': property_prices,\n",
    "    'Property Categories': property_per_category,\n",
    "    'Taxed Prices': taxed_property_prices,\n",
    "    'Taxed with Garbage Prices': taxed_property_prices_garbage\n",
    "}\n",
    "\n",
    "\n",
    "Moringa_property = pd.DataFrame(data)\n",
    "\n",
    "print(\"\\nMoringa_property:\")\n",
    "print(Moringa_property.head(23))"
   ]
  },
  {
   "cell_type": "code",
   "execution_count": 53,
   "metadata": {},
   "outputs": [
    {
     "ename": "IndentationError",
     "evalue": "expected an indented block after function definition on line 13 (358763373.py, line 15)",
     "output_type": "error",
     "traceback": [
      "\u001b[1;36m  Cell \u001b[1;32mIn[53], line 15\u001b[1;36m\u001b[0m\n\u001b[1;33m    if(sum % 7) == 0:\u001b[0m\n\u001b[1;37m    ^\u001b[0m\n\u001b[1;31mIndentationError\u001b[0m\u001b[1;31m:\u001b[0m expected an indented block after function definition on line 13\n"
     ]
    }
   ],
   "source": [
    "# A function that takes in two numbers, sums the two numbers and checks if the sum of the two numbers is odd or even.\n",
    "# The function returns the sum and shows if the sum is odd or even.\n",
    "\n",
    "# eg 5 + 10 = 15, the function will take in 5 and 10 as parameters, sum them to get 15, the output of the function will be 15 and odd.\n",
    "\n",
    "def add_numbers():\n",
    "    a = 5\n",
    "    b = 10\n",
    "    sum = a + b\n",
    "\n",
    "    print(sum)\n",
    "    \n",
    "def add_numbers():\n",
    "    \n",
    "if(sum % 7) == 0:\n",
    "    print(\"even\")\n",
    "    \n",
    "else:\n",
    "    print(\"odd\")"
   ]
  },
  {
   "cell_type": "code",
   "execution_count": null,
   "metadata": {},
   "outputs": [],
   "source": []
  }
 ],
 "metadata": {
  "kernelspec": {
   "display_name": "Python 3 (ipykernel)",
   "language": "python",
   "name": "python3"
  },
  "language_info": {
   "codemirror_mode": {
    "name": "ipython",
    "version": 3
   },
   "file_extension": ".py",
   "mimetype": "text/x-python",
   "name": "python",
   "nbconvert_exporter": "python",
   "pygments_lexer": "ipython3",
   "version": "3.11.3"
  }
 },
 "nbformat": 4,
 "nbformat_minor": 2
}

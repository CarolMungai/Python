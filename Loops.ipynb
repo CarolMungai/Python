{
 "cells": [
  {
   "cell_type": "markdown",
   "id": "6cee81fd",
   "metadata": {},
   "source": [
    "## Objectives.\n",
    "\n",
    "* Understand the concept.\n",
    "* Demonstrate the types of loops\n",
    "* Discuss the syntax\n",
    "* Understand the concept of loop control\n",
    "* Discuss Iteration\n",
    "* Discuss Nested Loops\n",
    "* Enhancing Loop Functionality"
   ]
  },
  {
   "cell_type": "markdown",
   "id": "edf5bce3",
   "metadata": {},
   "source": [
    "## Introduction to Repetition.\n",
    "\n",
    "* Repitition is a fundamental concept in programming that involves performing the same set of instructions multiple times.\n",
    "* Used to automate tasks that require repeated execution of code example the * mpesa menu*\n",
    "* Loops are a key, mechanism in programming to achieve repetition effectively."
   ]
  },
  {
   "cell_type": "code",
   "execution_count": 1,
   "id": "3c76f2d8",
   "metadata": {},
   "outputs": [
    {
     "name": "stdout",
     "output_type": "stream",
     "text": [
      "1\n",
      "2\n",
      "3\n"
     ]
    }
   ],
   "source": [
    "# Consider a scenario counting 1 to 10\n",
    "\n",
    "print(1)\n",
    "print(2)\n",
    "print(3)"
   ]
  },
  {
   "cell_type": "code",
   "execution_count": 4,
   "id": "8aa19cb3",
   "metadata": {},
   "outputs": [
    {
     "name": "stdout",
     "output_type": "stream",
     "text": [
      "1\n",
      "2\n",
      "3\n",
      "4\n",
      "5\n",
      "6\n",
      "7\n",
      "8\n",
      "9\n",
      "10\n"
     ]
    }
   ],
   "source": [
    "# programming loops automate such repitative tasks\n",
    "# example\n",
    "\n",
    "for num in range (1, 11):\n",
    "    print(num)"
   ]
  },
  {
   "cell_type": "code",
   "execution_count": 5,
   "id": "2741bd55",
   "metadata": {},
   "outputs": [
    {
     "name": "stdout",
     "output_type": "stream",
     "text": [
      "Count: 0\n",
      "Count: 1\n",
      "Count: 2\n",
      "Count: 3\n",
      "Count: 4\n"
     ]
    }
   ],
   "source": [
    "# use while loops\n",
    "\n",
    "count = 0\n",
    "\n",
    "while count < 5:\n",
    "    print(\"Count:\", count)\n",
    "    count += 1 # what does this code do?"
   ]
  },
  {
   "cell_type": "markdown",
   "id": "7bebaa07",
   "metadata": {},
   "source": [
    "## What is a Loop?\n",
    "\n",
    "* A loop is a programming construct that enables the repeated execution of a specific block of code ( *indented code block*).\n",
    "* Loops are used when you want to automate a task that needs to be performed multiple times.\n",
    "* They control the flow of the program allowing certain code to be executed repeatedly until a **condition is met**."
   ]
  },
  {
   "cell_type": "code",
   "execution_count": 6,
   "id": "25c85922",
   "metadata": {},
   "outputs": [
    {
     "name": "stdout",
     "output_type": "stream",
     "text": [
      "55\n"
     ]
    }
   ],
   "source": [
    "# sum the numbers between 1 and 10\n",
    "\n",
    "sum = 1 + 2 + 3 + 4 + 5 + 6 + 7 + 8 + 9 + 10\n",
    "\n",
    "print (sum)"
   ]
  },
  {
   "cell_type": "code",
   "execution_count": 7,
   "id": "88f1c4c2",
   "metadata": {},
   "outputs": [
    {
     "name": "stdout",
     "output_type": "stream",
     "text": [
      "55\n"
     ]
    }
   ],
   "source": [
    "# use a loop to find the sum of numbers between 1 and 10\n",
    "\n",
    "# declare a variable to store the sum\n",
    "\n",
    "sum = 0\n",
    "\n",
    "# creating a loop >> for loop\n",
    "for num in range(1, 11): # range (1, 11) >> all the numbers between 1 and 11  excluding 11\n",
    "    # increament the value of sum by the value of the num\n",
    "    \n",
    "    sum += num\n",
    "    \n",
    "print(sum)"
   ]
  },
  {
   "cell_type": "markdown",
   "id": "c1e0b847",
   "metadata": {},
   "source": [
    "## Control flow\n",
    "\n",
    "* Loops influence the order in which instructions  are executed.\n",
    "* When a loop is encountered, the program enters a loop body, executing the contained code.\n",
    "* Syntax\n",
    "\n",
    "```\n",
    "\n",
    "loop made of a condition:\n",
    "    contained block of code to be executed when condition in True/met\n",
    "\n",
    "loop is done\n",
    "```\n",
    "\n",
    "* At each iteration, the program checks the loop condition. If the condition remains **True**, the loop bodyis executed again.\n",
    "* If it becomes **False**, the program exits the lo"
   ]
  },
  {
   "cell_type": "markdown",
   "id": "d61c5379",
   "metadata": {},
   "source": [
    "### For Loop\n",
    "* Basic syntax\n",
    "\n",
    "```\n",
    "for item in sequence:\n",
    "    # code to be executed for each item\n",
    "    # ...\n",
    "```\n",
    "\n",
    "* `for`: Keyword that signals the start of a for loop.\n",
    "* `item`: Is a variable that represents the current item in the sequence during each iteration of the loop.\n",
    "* `in`: A keyword used to specify that you are iterating *in* the given sequence.\n",
    "* `sequence`: Collection of items that you want to iterate over (e.g., list, string, tuple, or range).\n",
    "* `:`: Signifies the start of the indented code block that will be executed for each iterarion of the loop.\n",
    "\n",
    "Inside the indented code block, you place the actions or operations that you want to perform on each item in the sequence. The loop will automatically iterate through the entire sequence, executing the code block for each item."
   ]
  },
  {
   "cell_type": "code",
   "execution_count": 16,
   "id": "8c9e5494",
   "metadata": {},
   "outputs": [
    {
     "name": "stdout",
     "output_type": "stream",
     "text": [
      "Kisumu\n",
      "Kisii\n"
     ]
    }
   ],
   "source": [
    "# code demonstration\n",
    "# list of high courts in Kenya\n",
    "\n",
    "high_courts = ['Kisumu', 'Kisii', 'Nyamira', 'Homabay', 'Migori', 'Kitale', 'Mandera']\n",
    "\n",
    "for court in high_courts:\n",
    "    # code block to execute for each item\n",
    "    print(court)\n",
    "    if (court == 'Kisii'):\n",
    "        break;\n",
    "        \n",
    "    "
   ]
  },
  {
   "cell_type": "markdown",
   "id": "f5295e7e",
   "metadata": {},
   "source": [
    "### Sequence Types\n",
    "* Refers to data structures that hold a collection of elements, where each element is accessible by an index or a key.\n",
    "* These elements are ordered, meaning they have a specific position with the sequence.\n"
   ]
  },
  {
   "cell_type": "code",
   "execution_count": 12,
   "id": "073146ff",
   "metadata": {},
   "outputs": [
    {
     "name": "stdout",
     "output_type": "stream",
     "text": [
      "['Kisumu', 'Kisii', 'Nyamira', 'Homabay', 'Migori', 'Kitale']\n",
      "Homabay\n"
     ]
    }
   ],
   "source": [
    "# list \n",
    "\n",
    "print(high_courts)\n",
    "\n",
    "#accessing elements/items in a list by index\n",
    "\n",
    "print(high_courts[3])"
   ]
  },
  {
   "cell_type": "code",
   "execution_count": 17,
   "id": "03d3746e",
   "metadata": {},
   "outputs": [
    {
     "name": "stdout",
     "output_type": "stream",
     "text": [
      "kisumu\n",
      "kisii\n",
      "nyamira\n",
      "homabay\n",
      "migori\n",
      "kitale\n",
      "mandera\n"
     ]
    }
   ],
   "source": [
    "# looping through list court\n",
    "\n",
    "for court in high_courts:\n",
    "    # code to execute\n",
    "    lower_case = court.lower()\n",
    "    \n",
    "    print(lower_case)"
   ]
  },
  {
   "cell_type": "code",
   "execution_count": 21,
   "id": "78ba30b3",
   "metadata": {},
   "outputs": [
    {
     "name": "stdout",
     "output_type": "stream",
     "text": [
      "['Kisumu', 'Kisii', 'Nyamira', 'Homabay', 'Migori', 'Kitale', 'Mandera']\n"
     ]
    }
   ],
   "source": [
    "print(high_courts)"
   ]
  },
  {
   "cell_type": "code",
   "execution_count": 31,
   "id": "fe34ffeb",
   "metadata": {},
   "outputs": [
    {
     "name": "stdout",
     "output_type": "stream",
     "text": [
      "('Kocheli', 'Solo', 'Kirui', 'Martin')\n",
      "Kocheli\n"
     ]
    }
   ],
   "source": [
    " # tuple > Similar to lists, but they are immutable, meaning:\n",
    " # their contents cannot be changed after creation\n",
    " # syntax tuple_name = (item1, item2,...)\n",
    " \n",
    " noise_makers = (\"Kocheli\", \"Solo\", \"Kirui\", \"Martin\")\n",
    "    \n",
    "print(noise_makers)\n",
    "    \n",
    "# accessing items in a tuple\n",
    "    \n",
    "print(noise_makers[0])"
   ]
  },
  {
   "cell_type": "code",
   "execution_count": 32,
   "id": "ce3455d0",
   "metadata": {},
   "outputs": [
    {
     "name": "stdout",
     "output_type": "stream",
     "text": [
      "Kocheli\n",
      "Solo\n",
      "Kirui\n",
      "Martin\n"
     ]
    }
   ],
   "source": [
    "# loop through items in a tuple\n",
    "for notorious in noise_makers:\n",
    "    \n",
    "# code to be executed\n",
    "    \n",
    "    print(notorious)"
   ]
  },
  {
   "cell_type": "code",
   "execution_count": 1,
   "id": "0b949518",
   "metadata": {},
   "outputs": [
    {
     "name": "stdout",
     "output_type": "stream",
     "text": [
      "J\n",
      "u\n",
      "d\n",
      "i\n",
      "c\n",
      "i\n",
      "a\n",
      "r\n",
      "y\n"
     ]
    }
   ],
   "source": [
    "# iterating through a string\n",
    "\n",
    "word = \"Judiciary\"\n",
    "\n",
    "for char in word:\n",
    "    print(char)"
   ]
  },
  {
   "cell_type": "code",
   "execution_count": 3,
   "id": "1fbfb837",
   "metadata": {},
   "outputs": [
    {
     "name": "stdout",
     "output_type": "stream",
     "text": [
      "['J', 'u', 'd', 'i', 'c', 'i', 'a', 'r', 'y']\n"
     ]
    }
   ],
   "source": [
    "# empty list to store chars\n",
    "\n",
    "word_chars = []\n",
    "\n",
    "for char in word:\n",
    "    word_chars.append(char)\n",
    "    \n",
    "print(word_chars)"
   ]
  },
  {
   "cell_type": "code",
   "execution_count": 7,
   "id": "e26c6388",
   "metadata": {},
   "outputs": [
    {
     "name": "stdout",
     "output_type": "stream",
     "text": [
      "[1, 3, 5, 7, 9]\n"
     ]
    }
   ],
   "source": [
    "# range\n",
    "\n",
    "# empty list to store odd numbers\n",
    "\n",
    "odd_nums = []\n",
    "\n",
    "for num in range(1, 10):\n",
    "    if (num % 2 == 1):\n",
    "       odd_nums.append(num)\n",
    "    \n",
    "print(odd_nums)\n"
   ]
  },
  {
   "cell_type": "markdown",
   "id": "25b993d3",
   "metadata": {},
   "source": [
    "### Loop Body\n",
    "\n",
    "* Refers to the block of code that is executed repeatedly for each iteration of loop.\n",
    "* In programming, a loop is designed to perform repeated tasks automatically and the loop body contains the instructions that define what those actions are."
   ]
  },
  {
   "cell_type": "markdown",
   "id": "593ae86f",
   "metadata": {},
   "source": [
    "#### Important points to consider:\n",
    "\n",
    "1. **indentation** - The loop body is indented to indicate that is the part of the loop. It defines the scope of the loop body.\n",
    "\n",
    "2. **iteration** - loop body is executed once for each itemin the sequence that contains the elements upon which the instructions and execution will be repeated.\n",
    "\n",
    "3. **accessing loop variable** - the loop variable value can be assessed inside the loop body to peform specific actions to that value.\n",
    "\n",
    "4. **manipulation** - inside the loop body, you can perform various operations on the loop variable or use it to interact with other parts of the program."
   ]
  },
  {
   "cell_type": "code",
   "execution_count": 11,
   "id": "2e395092",
   "metadata": {},
   "outputs": [
    {
     "name": "stdout",
     "output_type": "stream",
     "text": [
      "The square of 1 = 1\n",
      "The square of 2 = 4\n",
      "The square of 3 = 9\n",
      "The square of 4 = 16\n",
      "The square of 5 = 25\n"
     ]
    }
   ],
   "source": [
    "# example\n",
    "\n",
    "for num in range(1, 6):\n",
    "    square = num ** 2\n",
    "    \n",
    "    print(f\"The square of {num} = {square}\")"
   ]
  },
  {
   "cell_type": "markdown",
   "id": "77ef2509",
   "metadata": {},
   "source": []
  },
  {
   "cell_type": "code",
   "execution_count": 14,
   "id": "1f22e4a4",
   "metadata": {},
   "outputs": [
    {
     "name": "stdout",
     "output_type": "stream",
     "text": [
      "Hello Carol, welcome to training!!\n"
     ]
    }
   ],
   "source": [
    "# example\n",
    "\n",
    "def greet_students(student_name):\n",
    "    message = f\"Hello {student_name}, welcome to training!!\"\n",
    "    \n",
    "    return print(message)\n",
    "\n",
    "greet_students(\"Carol\")"
   ]
  },
  {
   "cell_type": "code",
   "execution_count": 15,
   "id": "24a85ba6",
   "metadata": {},
   "outputs": [
    {
     "name": "stdout",
     "output_type": "stream",
     "text": [
      "Hello Linda, welcome to training!!\n",
      "Hello Lucy, welcome to training!!\n",
      "Hello Mercy, welcome to training!!\n",
      "Hello Carol, welcome to training!!\n"
     ]
    }
   ],
   "source": [
    "# example 2\n",
    "\n",
    "# loop body with a function\n",
    "\n",
    "student_names = ['Linda', 'Lucy', 'Mercy', 'Carol']\n",
    "for name in student_names:\n",
    "    \n",
    "    greet_students(name)"
   ]
  },
  {
   "cell_type": "markdown",
   "id": "2fd7028a",
   "metadata": {},
   "source": [
    "### 'range()'\n",
    "\n",
    "* a function commonly used especially when working with loops.\n",
    "* It generates a sequence of numbers within a specified range, which can be used for various purposes, e.g., iterating through a loop of certain numbers or creating a list of numbers.\n",
    "* 'range()' takes up to three arguments:\n",
    "    \n",
    "1. **start(inclusive , optional)** - The starting value of the sequence. If omitted, the sequence starts from zero by default.\n",
    "\n",
    "2. **stop(exclusive** - The ending value of the sequence. The sequence will go up to the value, but not include the value in the sequence. example if stopis 50, and start is 0, the sequence will be all the numbers including 0 to 49 but not 50.\n",
    "\n",
    "3. **step(optinal)** - The difference between consecutive values in the sequence. By default, the value of step is 1.\n",
    "\n",
    "* syntax\n",
    "```range(start, stop, step)```"
   ]
  },
  {
   "cell_type": "markdown",
   "id": "a75a4844",
   "metadata": {},
   "source": [
    "### Basic range\n",
    "\n",
    "* Only using stop to generate a sequence of numbers from 0 to 10.\n",
    "* Remember if you do not include start and step, python will automatically pick the numbers 0 and 1 as the default value for stop and step."
   ]
  },
  {
   "cell_type": "code",
   "execution_count": 17,
   "id": "6d07ef0f",
   "metadata": {},
   "outputs": [
    {
     "name": "stdout",
     "output_type": "stream",
     "text": [
      "0\n",
      "1\n",
      "2\n",
      "3\n",
      "4\n",
      "5\n",
      "6\n",
      "7\n",
      "8\n",
      "9\n",
      "10\n"
     ]
    }
   ],
   "source": [
    "# example for stop\n",
    "\n",
    "# from 0 to 10\n",
    "\n",
    "for num in range(11):\n",
    "    print(num)"
   ]
  },
  {
   "cell_type": "code",
   "execution_count": 21,
   "id": "d62a17c6",
   "metadata": {},
   "outputs": [
    {
     "name": "stdout",
     "output_type": "stream",
     "text": [
      "30\n",
      "31\n",
      "32\n",
      "33\n",
      "34\n",
      "35\n",
      "36\n",
      "37\n",
      "38\n",
      "39\n",
      "40\n"
     ]
    }
   ],
   "source": [
    "# numbers between 30 and 40\n",
    "\n",
    "for num in range(30, 41):\n",
    "\n",
    "    print(num)"
   ]
  },
  {
   "cell_type": "markdown",
   "id": "7256f975",
   "metadata": {},
   "source": [
    "#### specifying start, stop and step\n",
    "\n",
    "* step is the difference between two consequtive numbers."
   ]
  },
  {
   "cell_type": "code",
   "execution_count": 29,
   "id": "555b8161",
   "metadata": {},
   "outputs": [
    {
     "name": "stdout",
     "output_type": "stream",
     "text": [
      "6\n",
      "9\n",
      "12\n",
      "15\n",
      "18\n",
      "21\n",
      "24\n",
      "27\n",
      "30\n"
     ]
    }
   ],
   "source": [
    "# example\n",
    "\n",
    "# 6 is the start, 30 is where to stop and 3 is step (the difference between the numbers should be 3)\n",
    "# stop at 30\n",
    "# step - difference between two consecutive values is 3\n",
    "\n",
    "for num in range(6, 31, 3):\n",
    "    print(num)"
   ]
  },
  {
   "cell_type": "code",
   "execution_count": 31,
   "id": "c19b1cc5",
   "metadata": {},
   "outputs": [
    {
     "name": "stdout",
     "output_type": "stream",
     "text": [
      "[0, 2, 4, 6, 8, 10, 12, 14, 16, 18, 20, 22, 24, 26, 28, 30, 32, 34, 36, 38, 40, 42, 44, 46, 48]\n"
     ]
    }
   ],
   "source": [
    "# example\n",
    "\n",
    "even_numbers = []\n",
    "for num in range(0, 50, 2):\n",
    "    even_numbers.append(num)\n",
    "    \n",
    "print(even_numbers)"
   ]
  },
  {
   "cell_type": "code",
   "execution_count": 36,
   "id": "a8588d4d",
   "metadata": {},
   "outputs": [
    {
     "name": "stdout",
     "output_type": "stream",
     "text": [
      "['Linda', 'Lucy', 'Mercy', 'Carol']\n"
     ]
    }
   ],
   "source": [
    "print(student_names)\n",
    "\n"
   ]
  },
  {
   "cell_type": "code",
   "execution_count": 40,
   "id": "c9bb917d",
   "metadata": {},
   "outputs": [
    {
     "name": "stdout",
     "output_type": "stream",
     "text": [
      "L\n",
      "i\n",
      "n\n",
      "d\n",
      "a\n",
      "\n",
      "Linda\n",
      "Lucy\n",
      "Mercy\n",
      "Carol\n"
     ]
    }
   ],
   "source": [
    "item_1 = student_names[0]\n",
    "\n",
    "for letters in item_1:\n",
    "    print(letters)\n",
    "    \n",
    "print()\n",
    "    \n",
    "for students in student_names:\n",
    "        print(students)"
   ]
  },
  {
   "cell_type": "code",
   "execution_count": 44,
   "id": "074ac79b",
   "metadata": {},
   "outputs": [
    {
     "name": "stdout",
     "output_type": "stream",
     "text": [
      "L\n",
      "i\n",
      "n\n",
      "d\n",
      "a\n",
      "\n",
      "L\n",
      "u\n",
      "c\n",
      "y\n",
      "\n",
      "M\n",
      "e\n",
      "r\n",
      "c\n",
      "y\n",
      "\n",
      "C\n",
      "a\n",
      "r\n",
      "o\n",
      "l\n",
      "\n"
     ]
    }
   ],
   "source": [
    "# nested loop - a loop within a loop, ie the second loop is within the loop body of the first loop\n",
    "\n",
    "for student in student_names: # first loop\n",
    "    \n",
    "    for letter in student: # second loop\n",
    "        print(letter)\n",
    "    print() # line break between names\n"
   ]
  },
  {
   "cell_type": "code",
   "execution_count": null,
   "id": "162bafa7",
   "metadata": {},
   "outputs": [],
   "source": [
    "*\n",
    "* *\n",
    "* * *\n",
    "* * * *"
   ]
  },
  {
   "cell_type": "code",
   "execution_count": 66,
   "id": "0c146597",
   "metadata": {},
   "outputs": [
    {
     "name": "stdout",
     "output_type": "stream",
     "text": [
      "* \n",
      "* * \n",
      "* * * \n",
      "* * * * \n"
     ]
    }
   ],
   "source": [
    "# define the number of rows\n",
    "\n",
    "num_rows = 4\n",
    "\n",
    "# outer loop for the rows\n",
    "for i in range(num_rows):\n",
    "    # inner loop for printing asterisks (*)\n",
    "    for j in range(i + 1):\n",
    "        print(\"*\", end=\" \") # by default value of end is a new line\n",
    "    # move to the next line after each row is printed\n",
    "    print()"
   ]
  },
  {
   "cell_type": "code",
   "execution_count": 69,
   "id": "6f7cefd7",
   "metadata": {},
   "outputs": [
    {
     "name": "stdout",
     "output_type": "stream",
     "text": [
      "* \n",
      "* * \n",
      "* * * \n",
      "* * * * \n"
     ]
    }
   ],
   "source": [
    "num_rows = 4\n",
    "\n",
    "for i in range(num_rows):\n",
    "    for j in range(i + 1):\n",
    "        print(\"*\", end=\" \")\n",
    "    print()"
   ]
  },
  {
   "cell_type": "code",
   "execution_count": null,
   "id": "bbe587f2",
   "metadata": {},
   "outputs": [],
   "source": []
  }
 ],
 "metadata": {
  "kernelspec": {
   "display_name": "Python 3 (ipykernel)",
   "language": "python",
   "name": "python3"
  },
  "language_info": {
   "codemirror_mode": {
    "name": "ipython",
    "version": 3
   },
   "file_extension": ".py",
   "mimetype": "text/x-python",
   "name": "python",
   "nbconvert_exporter": "python",
   "pygments_lexer": "ipython3",
   "version": "3.11.3"
  }
 },
 "nbformat": 4,
 "nbformat_minor": 5
}

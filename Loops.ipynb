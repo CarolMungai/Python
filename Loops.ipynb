{
 "cells": [
  {
   "cell_type": "markdown",
   "id": "6cee81fd",
   "metadata": {},
   "source": [
    "## Objectives.\n",
    "\n",
    "* Understand the concept.\n",
    "* Demonstrate the types of loops\n",
    "* Discuss the syntax\n",
    "* Understand the concept of loop control\n",
    "* Discuss Iteration\n",
    "* Discuss Nested Loops\n",
    "* Enhancing Loop Functionality"
   ]
  },
  {
   "cell_type": "markdown",
   "id": "edf5bce3",
   "metadata": {},
   "source": [
    "## Introduction to Repetition.\n",
    "\n",
    "* Repitition is a fundamental concept in programming that involves performing the same set of instructions multiple times.\n",
    "* Used to automate tasks that require repeated execution of code example the * mpesa menu*\n",
    "* Loops are a key, mechanism in programming to achieve repetition effectively."
   ]
  },
  {
   "cell_type": "code",
   "execution_count": 1,
   "id": "3c76f2d8",
   "metadata": {},
   "outputs": [
    {
     "name": "stdout",
     "output_type": "stream",
     "text": [
      "1\n",
      "2\n",
      "3\n"
     ]
    }
   ],
   "source": [
    "# Consider a scenario counting 1 to 10\n",
    "\n",
    "print(1)\n",
    "print(2)\n",
    "print(3)"
   ]
  },
  {
   "cell_type": "code",
   "execution_count": 4,
   "id": "8aa19cb3",
   "metadata": {},
   "outputs": [
    {
     "name": "stdout",
     "output_type": "stream",
     "text": [
      "1\n",
      "2\n",
      "3\n",
      "4\n",
      "5\n",
      "6\n",
      "7\n",
      "8\n",
      "9\n",
      "10\n"
     ]
    }
   ],
   "source": [
    "# programming loops automate such repitative tasks\n",
    "# example\n",
    "\n",
    "for num in range (1, 11):\n",
    "    print(num)"
   ]
  },
  {
   "cell_type": "code",
   "execution_count": 5,
   "id": "2741bd55",
   "metadata": {},
   "outputs": [
    {
     "name": "stdout",
     "output_type": "stream",
     "text": [
      "Count: 0\n",
      "Count: 1\n",
      "Count: 2\n",
      "Count: 3\n",
      "Count: 4\n"
     ]
    }
   ],
   "source": [
    "# use while loops\n",
    "\n",
    "count = 0\n",
    "\n",
    "while count < 5:\n",
    "    print(\"Count:\", count)\n",
    "    count += 1 # what does this code do?"
   ]
  },
  {
   "cell_type": "markdown",
   "id": "7bebaa07",
   "metadata": {},
   "source": [
    "## What is a Loop?\n",
    "\n",
    "* A loop is a programming construct that enables the repeated execution of a specific block of code ( *indented code block*).\n",
    "* Loops are used when you want to automate a task that needs to be performed multiple times.\n",
    "* They control the flow of the program allowing certain code to be executed repeatedly until a **condition is met**."
   ]
  },
  {
   "cell_type": "code",
   "execution_count": 6,
   "id": "25c85922",
   "metadata": {},
   "outputs": [
    {
     "name": "stdout",
     "output_type": "stream",
     "text": [
      "55\n"
     ]
    }
   ],
   "source": [
    "# sum the numbers between 1 and 10\n",
    "\n",
    "sum = 1 + 2 + 3 + 4 + 5 + 6 + 7 + 8 + 9 + 10\n",
    "\n",
    "print (sum)"
   ]
  },
  {
   "cell_type": "code",
   "execution_count": 7,
   "id": "88f1c4c2",
   "metadata": {},
   "outputs": [
    {
     "name": "stdout",
     "output_type": "stream",
     "text": [
      "55\n"
     ]
    }
   ],
   "source": [
    "# use a loop to find the sum of numbers between 1 and 10\n",
    "\n",
    "# declare a variable to store the sum\n",
    "\n",
    "sum = 0\n",
    "\n",
    "# creating a loop >> for loop\n",
    "for num in range(1, 11): # range (1, 11) >> all the numbers between 1 and 11  excluding 11\n",
    "    # increament the value of sum by the value of the num\n",
    "    \n",
    "    sum += num\n",
    "    \n",
    "print(sum)"
   ]
  },
  {
   "cell_type": "markdown",
   "id": "c1e0b847",
   "metadata": {},
   "source": [
    "## Control flow\n",
    "\n",
    "* Loops influence the order in which instructions  are executed.\n",
    "* When a loop is encountered, the program enters a loop body, executing the contained code.\n",
    "* Syntax\n",
    "\n",
    "```\n",
    "\n",
    "loop made of a condition:\n",
    "    contained block of code to be executed when condition in True/met\n",
    "\n",
    "loop is done\n",
    "```\n",
    "\n",
    "* At each iteration, the program checks the loop condition. If the condition remains **True**, the loop bodyis executed again.\n",
    "* If it becomes **False**, the program exits the lo"
   ]
  }
 ],
 "metadata": {
  "kernelspec": {
   "display_name": "Python 3 (ipykernel)",
   "language": "python",
   "name": "python3"
  },
  "language_info": {
   "codemirror_mode": {
    "name": "ipython",
    "version": 3
   },
   "file_extension": ".py",
   "mimetype": "text/x-python",
   "name": "python",
   "nbconvert_exporter": "python",
   "pygments_lexer": "ipython3",
   "version": "3.11.3"
  }
 },
 "nbformat": 4,
 "nbformat_minor": 5
}

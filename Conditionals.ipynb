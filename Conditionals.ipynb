{
 "cells": [
  {
   "cell_type": "code",
   "execution_count": 6,
   "id": "178818da",
   "metadata": {},
   "outputs": [
    {
     "name": "stdout",
     "output_type": "stream",
     "text": [
      "0\n"
     ]
    }
   ],
   "source": [
    "#leave days\n",
    "\n",
    "leave_days=0\n",
    "print(leave_days)\n"
   ]
  },
  {
   "cell_type": "code",
   "execution_count": 7,
   "id": "cfc3da8b",
   "metadata": {},
   "outputs": [
    {
     "name": "stdout",
     "output_type": "stream",
     "text": [
      "1\n"
     ]
    }
   ],
   "source": [
    "leave_days = leave_days + 1\n",
    "print(leave_days)"
   ]
  },
  {
   "cell_type": "code",
   "execution_count": 9,
   "id": "121cd1c4",
   "metadata": {},
   "outputs": [
    {
     "name": "stdout",
     "output_type": "stream",
     "text": [
      "3\n"
     ]
    }
   ],
   "source": [
    "#incrementing variable by value\n",
    "leave_days +=1\n",
    "print(leave_days)"
   ]
  },
  {
   "cell_type": "code",
   "execution_count": 12,
   "id": "974878bb",
   "metadata": {},
   "outputs": [
    {
     "name": "stdout",
     "output_type": "stream",
     "text": [
      "2\n"
     ]
    }
   ],
   "source": [
    "#decreament variable by value\n",
    "leave_days -=1\n",
    "print(leave_days)"
   ]
  },
  {
   "cell_type": "code",
   "execution_count": 15,
   "id": "8af25835",
   "metadata": {},
   "outputs": [
    {
     "name": "stdout",
     "output_type": "stream",
     "text": [
      "20\n"
     ]
    }
   ],
   "source": [
    "leave_days = 21\n",
    "\n",
    "#use boolean\n",
    "take_leave = True\n",
    "\n",
    "#decide to take leave\n",
    "if take_leave:\n",
    "    \n",
    "    leave_days -=1\n",
    "    print(leave_days)"
   ]
  },
  {
   "cell_type": "code",
   "execution_count": 16,
   "id": "34cf1610",
   "metadata": {},
   "outputs": [
    {
     "name": "stdout",
     "output_type": "stream",
     "text": [
      "you can have id\n"
     ]
    }
   ],
   "source": [
    "age = 20\n",
    "\n",
    "if age >18: #condition\n",
    "    \n",
    "    print(\"you can have id\")"
   ]
  },
  {
   "cell_type": "code",
   "execution_count": 17,
   "id": "c65672d0",
   "metadata": {},
   "outputs": [
    {
     "data": {
      "text/plain": [
       "True"
      ]
     },
     "execution_count": 17,
     "metadata": {},
     "output_type": "execute_result"
    }
   ],
   "source": [
    "#condition\n",
    "age > 18"
   ]
  },
  {
   "cell_type": "code",
   "execution_count": 21,
   "id": "8f1084a5",
   "metadata": {},
   "outputs": [
    {
     "name": "stdout",
     "output_type": "stream",
     "text": [
      "Pass\n"
     ]
    }
   ],
   "source": [
    "#if else statement to determine if students have passed or failed\n",
    "score = 45\n",
    "\n",
    "#because the score is above 40, then only the if statement will be executed\n",
    "if score > 40:\n",
    "    outcome = \"Pass\" #code to execute if statement is True\n",
    "    print(outcome)  #code to execute when if statement is True\n",
    "#when the student has scored 40 or below\n",
    "else:\n",
    "    outcome = \"Fail\"\n",
    "    print(outcome)\n",
    "        "
   ]
  },
  {
   "cell_type": "code",
   "execution_count": 22,
   "id": "c1992565",
   "metadata": {},
   "outputs": [
    {
     "name": "stdout",
     "output_type": "stream",
     "text": [
      "Fail\n"
     ]
    }
   ],
   "source": [
    "#what happens when student scores below 40\n",
    "\n",
    "score = 30\n",
    "\n",
    "if score > 40:\n",
    "    outcome = \"Pass\"\n",
    "    print(outcome)\n",
    "    \n",
    "else:\n",
    "    outcome = \"Fail\"\n",
    "    print(outcome)"
   ]
  },
  {
   "cell_type": "code",
   "execution_count": 25,
   "id": "555600a5",
   "metadata": {},
   "outputs": [
    {
     "name": "stdout",
     "output_type": "stream",
     "text": [
      "Boy\n"
     ]
    }
   ],
   "source": [
    "##And\n",
    "\n",
    "#Used to join two or more conditions\n",
    "#Example students who have scores above 40 but below 50 are said to have attained grade D\n",
    "\n",
    "#Note _ For '''and''', all the conditions have to be True for the condition to be True\n",
    "\n",
    "\n",
    "age = 12\n",
    "gender = 'Male'\n",
    "if age < 18 and gender == 'Male': #both two conditions have to be True\n",
    "    print('Boy')"
   ]
  },
  {
   "cell_type": "code",
   "execution_count": 27,
   "id": "26db1602",
   "metadata": {},
   "outputs": [],
   "source": [
    "#if one condition is met\n",
    "#the statement is False\n",
    "\n",
    "age = 19\n",
    "\n",
    "gender = 'Male'\n",
    "if (age < 18) and (gender == 'Male'): #both the two conditions have to be True\n",
    "    print('Boy')"
   ]
  },
  {
   "cell_type": "markdown",
   "id": "b9a4619f",
   "metadata": {},
   "source": [
    "## Summary Table\n",
    "\n",
    "|Condition 1| Condition 2| Final Condition|\n",
    "|:---------:|:----------:|:--------------:|\n",
    "|True |True |True |\n",
    "|True |False|False|\n",
    "|False|True |False|\n",
    "|False|False|False|"
   ]
  },
  {
   "cell_type": "code",
   "execution_count": null,
   "id": "39941ca4",
   "metadata": {},
   "outputs": [],
   "source": [
    "above 40 >> D\n",
    "above 50 >> C\n",
    "above 60 >> B\n",
    "above 70 >> A\n",
    "below 40 "
   ]
  },
  {
   "cell_type": "code",
   "execution_count": 28,
   "id": "86aed140",
   "metadata": {},
   "outputs": [
    {
     "name": "stdout",
     "output_type": "stream",
     "text": [
      "B\n"
     ]
    }
   ],
   "source": [
    "#grades\n",
    "\n",
    "grade = 67\n",
    "\n",
    "if (grade >= 40) and (grade < 50): #score between 40 and 49\n",
    "    grade = \"D\"\n",
    "    print(grade)\n",
    "    \n",
    "#elif statement (else if)\n",
    "elif (grade >= 50) and (grade < 60): #score between 50 and 59\n",
    "    grade = \"C\"\n",
    "    print(grade)\n",
    "    \n",
    "elif (grade >= 60) and (grade < 70): #score between 60 and 69\n",
    "    grade = \"B\"\n",
    "    print(grade)\n",
    "    \n",
    "elif (grade >= 70): #score 70 and above\n",
    "    grade = \"A\"\n",
    "    print(grade)\n",
    "    \n",
    "else: #alternative\n",
    "     print('Fail')\n",
    "    \n"
   ]
  },
  {
   "cell_type": "code",
   "execution_count": 32,
   "id": "d4b6b987",
   "metadata": {},
   "outputs": [
    {
     "name": "stdout",
     "output_type": "stream",
     "text": [
      "You can go into the bouncing castle\n"
     ]
    }
   ],
   "source": [
    "## OR\n",
    "\n",
    "#Just like and is used to join conditions\n",
    "#Atleast one condition should be '''True'''\n",
    "\n",
    "height = 45\n",
    "\n",
    "weight = 60\n",
    "\n",
    "if (height < 40) or (weight > 50): #condition is True if one or either condition is met\n",
    "    print(\"You can go into the bouncing castle\")\n",
    "    \n",
    "    #weight has met the criteria\n",
    "    #height has not \n"
   ]
  },
  {
   "cell_type": "markdown",
   "id": "4ad63237",
   "metadata": {},
   "source": [
    "|Condition 1| Condition 2| Final Condition|\n",
    "|:---------:|:----------:|:--------------:|\n",
    "|True |True |True |\n",
    "|True |False|True |\n",
    "|False|True |True |\n",
    "|False|False|False|\n"
   ]
  },
  {
   "cell_type": "code",
   "execution_count": 34,
   "id": "3304808c",
   "metadata": {},
   "outputs": [
    {
     "name": "stdout",
     "output_type": "stream",
     "text": [
      "You will destroy the bouncing castle\n"
     ]
    }
   ],
   "source": [
    "height = 65\n",
    "\n",
    "weight = 90\n",
    "\n",
    "if (height < 40) or (weight < 50): #condition is True if one or either condition is met\n",
    "    print(\"You can go into the bouncing castle\")\n",
    "    \n",
    "else: #else statement will be executed if both the conditions above are false\n",
    "    print(\"You will destroy the bouncing castle\")"
   ]
  },
  {
   "cell_type": "code",
   "execution_count": 35,
   "id": "bfe1c6fa",
   "metadata": {},
   "outputs": [
    {
     "name": "stdout",
     "output_type": "stream",
     "text": [
      "You can go into the bouncing castle\n"
     ]
    }
   ],
   "source": [
    "height = 50\n",
    "\n",
    "weight = 20\n",
    "\n",
    "if (height < 40) or (weight < 50): #condition is True if one or either condition is met\n",
    "    print(\"You can go into the bouncing castle\")\n",
    "    \n",
    "else: #else statement will be executed if both the conditions above are false\n",
    "    print(\"You will destroy the bouncing castle\")"
   ]
  },
  {
   "cell_type": "code",
   "execution_count": null,
   "id": "7cefe721",
   "metadata": {},
   "outputs": [],
   "source": []
  }
 ],
 "metadata": {
  "kernelspec": {
   "display_name": "Python 3 (ipykernel)",
   "language": "python",
   "name": "python3"
  },
  "language_info": {
   "codemirror_mode": {
    "name": "ipython",
    "version": 3
   },
   "file_extension": ".py",
   "mimetype": "text/x-python",
   "name": "python",
   "nbconvert_exporter": "python",
   "pygments_lexer": "ipython3",
   "version": "3.11.3"
  }
 },
 "nbformat": 4,
 "nbformat_minor": 5
}

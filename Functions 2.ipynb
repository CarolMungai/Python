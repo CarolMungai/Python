{
 "cells": [
  {
   "cell_type": "markdown",
   "id": "71f856ad",
   "metadata": {},
   "source": [
    "### Functions"
   ]
  },
  {
   "cell_type": "code",
   "execution_count": 6,
   "id": "6469e3f2",
   "metadata": {},
   "outputs": [],
   "source": [
    "#example 2\n",
    "\n",
    "def calculator(a, b, operator):\n",
    "    \"\"\"Simple arithmetic operations\"\"\"\n",
    "    if (operator.strip() == \"+\"):\n",
    "        sum = a + b\n",
    "        sum_out = f\"{a} + {b} = {sum}\"\n",
    "        \n",
    "        return sum_out\n",
    "    elif (operator == \"_\"):\n",
    "        diff = a - b\n",
    "        diff_out = f\"{a} - {b} = {diff}\"\n",
    "        \n",
    "        return diff_out\n",
    "    elif (operator.strip() == \"*\"):\n",
    "        times = a * b\n",
    "        times_out = f\"{a} * {b} = {times}\"\n",
    "        \n",
    "        return times_out\n",
    "    else:\n",
    "        print(\"Enter maths operators\")\n",
    "        \n",
    "    calculator(8, 7, \"&\")"
   ]
  },
  {
   "cell_type": "code",
   "execution_count": 5,
   "id": "31a6860b",
   "metadata": {},
   "outputs": [
    {
     "ename": "NameError",
     "evalue": "name 'alt_calculator' is not defined",
     "output_type": "error",
     "traceback": [
      "\u001b[1;31m---------------------------------------------------------------------------\u001b[0m",
      "\u001b[1;31mNameError\u001b[0m                                 Traceback (most recent call last)",
      "Cell \u001b[1;32mIn[5], line 10\u001b[0m\n\u001b[0;32m      7\u001b[0m     \u001b[38;5;66;03m# return a set of values.\u001b[39;00m\n\u001b[0;32m      8\u001b[0m     \u001b[38;5;28;01mreturn\u001b[39;00m \u001b[38;5;28msum\u001b[39m, diff, multiplication\n\u001b[1;32m---> 10\u001b[0m alt_calculator(\u001b[38;5;241m7\u001b[39m, \u001b[38;5;241m3\u001b[39m)\n",
      "\u001b[1;31mNameError\u001b[0m: name 'alt_calculator' is not defined"
     ]
    }
   ],
   "source": [
    "def calculator(a, b):\n",
    "    \"\"\"Alternative calculator\"\"\"\n",
    "    sum = a + b\n",
    "    diff = a - b\n",
    "    multiplication = a * b\n",
    "    \n",
    "    # return a set of values.\n",
    "    return sum, diff, multiplication\n",
    "\n",
    "alt_calculator(7, 3)"
   ]
  },
  {
   "cell_type": "code",
   "execution_count": 7,
   "id": "ea9a23d5",
   "metadata": {},
   "outputs": [
    {
     "ename": "NameError",
     "evalue": "name 'alt_calculator' is not defined",
     "output_type": "error",
     "traceback": [
      "\u001b[1;31m---------------------------------------------------------------------------\u001b[0m",
      "\u001b[1;31mNameError\u001b[0m                                 Traceback (most recent call last)",
      "Cell \u001b[1;32mIn[7], line 1\u001b[0m\n\u001b[1;32m----> 1\u001b[0m alt_calculator_output \u001b[38;5;241m=\u001b[39m alt_calculator(\u001b[38;5;241m7\u001b[39m, \u001b[38;5;241m3\u001b[39m)\n\u001b[0;32m      3\u001b[0m \u001b[38;5;28mprint\u001b[39m(alt_calculator_output)\n",
      "\u001b[1;31mNameError\u001b[0m: name 'alt_calculator' is not defined"
     ]
    }
   ],
   "source": [
    "# assigned variable to our function call\n",
    "\n",
    "alt_calculator_output = alt_calculator(7, 3)\n",
    "\n",
    "print(type(alt_calculator_output))\n",
    "\n",
    "# Accessing individual values in the return set of values,\n",
    "# using the index\n",
    "\n",
    "difference = alt_calculator_output[1]\n",
    "\n",
    "print(difference)\n"
   ]
  },
  {
   "cell_type": "code",
   "execution_count": 8,
   "id": "e6bcd143",
   "metadata": {},
   "outputs": [
    {
     "data": {
      "text/plain": [
       "(21, [1, 4, 16])"
      ]
     },
     "execution_count": 8,
     "metadata": {},
     "output_type": "execute_result"
    }
   ],
   "source": [
    "# sum of squares\n",
    "\n",
    "def sum_squares(numbers):\n",
    "    \"\"\"\n",
    "    parameters:\n",
    "        numbers - list of numbers\n",
    "    return:\n",
    "        sum of the squares of the list numbers\n",
    "    \"\"\"\n",
    "    #empty list to store squared numbers\n",
    "    squared_numbers = []\n",
    "    # loop through the list numbers\n",
    "    for num in numbers:\n",
    "        squared_value = num ** 2\n",
    "        #add the squared_value to empty list\n",
    "        squared_numbers.append(squared_value)\n",
    "    \n",
    "    # calculate sum of squares\n",
    "    squares_sum = sum(squared_numbers)\n",
    "    \n",
    "    return squares_sum, squared_numbers\n",
    "\n",
    "sum_squares([1, 2, 4])"
   ]
  },
  {
   "cell_type": "markdown",
   "id": "108dfce7",
   "metadata": {},
   "source": [
    "## Built-in Functions"
   ]
  },
  {
   "cell_type": "code",
   "execution_count": 10,
   "id": "6daad03c",
   "metadata": {},
   "outputs": [
    {
     "name": "stdout",
     "output_type": "stream",
     "text": [
      "Carol\n"
     ]
    }
   ],
   "source": [
    "# example\n",
    "\n",
    "print(\"Carol\")"
   ]
  },
  {
   "cell_type": "code",
   "execution_count": 13,
   "id": "44e926a2",
   "metadata": {},
   "outputs": [
    {
     "name": "stdout",
     "output_type": "stream",
     "text": [
      "Carol\n"
     ]
    }
   ],
   "source": [
    "# input is abuilt in function thet take in the user input\n",
    "\n",
    "#first_name = input(\"Enter your name: \\n\")\n",
    "#first_name = Carol\n",
    "\n",
    "first_name =(\"Carol\")\n",
    "print(first_name)"
   ]
  },
  {
   "cell_type": "code",
   "execution_count": 14,
   "id": "b2ed937d",
   "metadata": {},
   "outputs": [
    {
     "name": "stdout",
     "output_type": "stream",
     "text": [
      "Enter a number: \n",
      "7\n"
     ]
    },
    {
     "data": {
      "text/plain": [
       "str"
      ]
     },
     "execution_count": 14,
     "metadata": {},
     "output_type": "execute_result"
    }
   ],
   "source": [
    "# what if we want an interger?\n",
    "\n",
    "number = input(\"Enter a number: \\n\")\n",
    "\n",
    "type(number)"
   ]
  },
  {
   "cell_type": "code",
   "execution_count": 19,
   "id": "8d0eb861",
   "metadata": {
    "scrolled": true
   },
   "outputs": [
    {
     "name": "stdout",
     "output_type": "stream",
     "text": [
      "Enter number (0-9): \n",
      "7\n"
     ]
    },
    {
     "data": {
      "text/plain": [
       "int"
      ]
     },
     "execution_count": 19,
     "metadata": {},
     "output_type": "execute_result"
    }
   ],
   "source": [
    "# type hinting - specify the expected types of variables, function parameters and return values.\n",
    "\n",
    "number_2 = int(input(\"Enter number (0-9): \\n\"))\n",
    "\n",
    "type(number_2)"
   ]
  },
  {
   "cell_type": "code",
   "execution_count": 20,
   "id": "0c428395",
   "metadata": {},
   "outputs": [
    {
     "name": "stdout",
     "output_type": "stream",
     "text": [
      "Enter your value: \n",
      "5\n",
      "Value is Odd\n"
     ]
    }
   ],
   "source": [
    "# Martin example\n",
    "\n",
    "value = int(input(\"Enter your value: \\n\"))\n",
    "if value % 2 == 0:\n",
    "                print(\"Value is Even\")\n",
    "            \n",
    "else: \n",
    "                print(\"Value is Odd\")"
   ]
  },
  {
   "cell_type": "code",
   "execution_count": 21,
   "id": "480f59e2",
   "metadata": {},
   "outputs": [
    {
     "name": "stdout",
     "output_type": "stream",
     "text": [
      "Enter a number: 2\n",
      "The number is Even.\n"
     ]
    }
   ],
   "source": [
    "# Patrick example\n",
    "\n",
    "def even_or_odd(number):\n",
    "    if number % 2 == 0:\n",
    "        return \"Even\"\n",
    "    else:\n",
    "        return \"Odd\"\n",
    "\n",
    "\n",
    "num = int(input(\"Enter a number: \"))\n",
    "result = even_or_odd(num)\n",
    "print(f\"The number is {result}.\")"
   ]
  },
  {
   "cell_type": "code",
   "execution_count": 23,
   "id": "794be318",
   "metadata": {},
   "outputs": [
    {
     "ename": "SyntaxError",
     "evalue": "unterminated string literal (detected at line 2) (3877933586.py, line 2)",
     "output_type": "error",
     "traceback": [
      "\u001b[1;36m  Cell \u001b[1;32mIn[23], line 2\u001b[1;36m\u001b[0m\n\u001b[1;33m    num = int(input(f\"Enter a number :\"\"))\u001b[0m\n\u001b[1;37m                                       ^\u001b[0m\n\u001b[1;31mSyntaxError\u001b[0m\u001b[1;31m:\u001b[0m unterminated string literal (detected at line 2)\n"
     ]
    }
   ],
   "source": [
    "# stan example\n",
    "\n",
    "def print_odd() -> int:\n",
    "    num = int(input(f\"Enter a number :\"\"))\n",
    "    if num % 2:\n",
    "        return \"Even\"\n",
    "    else:\n",
    "        return \"Odd\""
   ]
  },
  {
   "cell_type": "code",
   "execution_count": null,
   "id": "14f1c629",
   "metadata": {},
   "outputs": [],
   "source": [
    "# John example\n",
    "\n",
    "def check_even_odd():\n",
    "    try:\n",
    "        num = int(input(\"Enter a number: \"))\n",
    "        \n",
    "        if num % 2 == 0:\n",
    "            print(f\"{num} is even.\")\n",
    "        else:\n",
    "            print(f\"{num} is odd.\")\n",
    "    except ValueError:\n",
    "        print(\"Invalid input. Please enter a valid number.\")\n",
    "\n",
    "# Call the function\n",
    "check_even_odd()"
   ]
  },
  {
   "cell_type": "code",
   "execution_count": null,
   "id": "3f671927",
   "metadata": {},
   "outputs": [],
   "source": []
  }
 ],
 "metadata": {
  "kernelspec": {
   "display_name": "Python 3 (ipykernel)",
   "language": "python",
   "name": "python3"
  },
  "language_info": {
   "codemirror_mode": {
    "name": "ipython",
    "version": 3
   },
   "file_extension": ".py",
   "mimetype": "text/x-python",
   "name": "python",
   "nbconvert_exporter": "python",
   "pygments_lexer": "ipython3",
   "version": "3.11.3"
  }
 },
 "nbformat": 4,
 "nbformat_minor": 5
}

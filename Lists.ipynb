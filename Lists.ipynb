{
 "cells": [
  {
   "cell_type": "markdown",
   "id": "832e1bc9",
   "metadata": {},
   "source": [
    "## List\n",
    "\n",
    "* A collection of items arranged in a particular order.\n",
    "* Can include strings, floats, integers and any other data types including a list.\n",
    "* Anything can be added to a list, and the items in your list do not have to be related in any particular way.\n",
    "* Use square brackets '''([])''' to indicate a list and individual items in the list are seperated by commas.\n",
    "\n",
    "**syntax**: '''[item_1, item_2, item_3]'''"
   ]
  },
  {
   "cell_type": "code",
   "execution_count": 1,
   "id": "04725cd0",
   "metadata": {},
   "outputs": [
    {
     "name": "stdout",
     "output_type": "stream",
     "text": [
      "['Mango', 'Banana', 'Orange', 'Apple']\n"
     ]
    }
   ],
   "source": [
    "#example\n",
    "\n",
    "fruits = [\"Mango\", \"Banana\", \"Orange\", \"Apple\"]\n",
    "\n",
    "print(fruits)"
   ]
  },
  {
   "cell_type": "code",
   "execution_count": 3,
   "id": "3ddecd85",
   "metadata": {},
   "outputs": [
    {
     "data": {
      "text/plain": [
       "list"
      ]
     },
     "execution_count": 3,
     "metadata": {},
     "output_type": "execute_result"
    }
   ],
   "source": [
    "#example 1\n",
    "\n",
    "type(fruits)"
   ]
  },
  {
   "cell_type": "code",
   "execution_count": 4,
   "id": "00f9d26d",
   "metadata": {},
   "outputs": [
    {
     "name": "stdout",
     "output_type": "stream",
     "text": [
      "[254724388588, 254722649793, 254722397655]\n"
     ]
    }
   ],
   "source": [
    "# example 2\n",
    "\n",
    "phone_no = [254724388588, 254722649793, 254722397655]\n",
    "\n",
    "print(phone_no)"
   ]
  },
  {
   "cell_type": "markdown",
   "id": "cd9e32e7",
   "metadata": {},
   "source": [
    "### Accessing items in a list\n",
    "\n",
    "* Lists are ordered collections, ie you can access individual items in a list by telling python the position of that item in a list.\n",
    "* The position of an item in a list is referred to as *index*.\n",
    "* Syntax to access items in a list.\n",
    "\n",
    "'''list_name[index]'''"
   ]
  },
  {
   "cell_type": "code",
   "execution_count": 5,
   "id": "ac64db2b",
   "metadata": {},
   "outputs": [
    {
     "name": "stdout",
     "output_type": "stream",
     "text": [
      "['Mango', 'Banana', 'Orange', 'Apple']\n"
     ]
    }
   ],
   "source": [
    "# using fruit list\n",
    "\n",
    "print(fruits)"
   ]
  },
  {
   "cell_type": "code",
   "execution_count": 6,
   "id": "379f337c",
   "metadata": {},
   "outputs": [
    {
     "name": "stdout",
     "output_type": "stream",
     "text": [
      "Banana\n"
     ]
    }
   ],
   "source": [
    "# access banana\n",
    "\n",
    "print(fruits[1])"
   ]
  },
  {
   "cell_type": "markdown",
   "id": "82458230",
   "metadata": {},
   "source": [
    "* Index positions start at **0**, not ~~1~~ (~)"
   ]
  },
  {
   "cell_type": "code",
   "execution_count": 7,
   "id": "d9aa3609",
   "metadata": {},
   "outputs": [
    {
     "name": "stdout",
     "output_type": "stream",
     "text": [
      "APPLE\n"
     ]
    }
   ],
   "source": [
    "# change case\n",
    "\n",
    "print(fruits[3].upper())"
   ]
  },
  {
   "cell_type": "code",
   "execution_count": 11,
   "id": "53b51722",
   "metadata": {},
   "outputs": [
    {
     "name": "stdout",
     "output_type": "stream",
     "text": [
      "Apple\n",
      "Orange\n",
      "Banana\n",
      "Mango\n"
     ]
    }
   ],
   "source": [
    "# using negative indexing\n",
    "# starts -1\n",
    "\n",
    "print(fruits[-1])\n",
    "print(fruits[-2])\n",
    "print(fruits[-3])\n",
    "print(fruits[-4])"
   ]
  },
  {
   "cell_type": "code",
   "execution_count": 13,
   "id": "1e47e6f8",
   "metadata": {},
   "outputs": [
    {
     "name": "stdout",
     "output_type": "stream",
     "text": [
      "Carol likes Banana, especially the dotted ones.\n"
     ]
    }
   ],
   "source": [
    "# using individual items in a list\n",
    "\n",
    "message = f\"Carol likes {fruits[-3]}, especially the dotted ones.\"\n",
    "\n",
    "print(message)"
   ]
  },
  {
   "cell_type": "code",
   "execution_count": 14,
   "id": "22d15cd7",
   "metadata": {},
   "outputs": [
    {
     "name": "stdout",
     "output_type": "stream",
     "text": [
      "Nava likes both Mangos and Oranges.\n"
     ]
    }
   ],
   "source": [
    "message_2 = f\"Nava likes both {fruits[0]}s and {fruits[2]}s.\"\n",
    "\n",
    "print(message_2)"
   ]
  },
  {
   "cell_type": "markdown",
   "id": "003f0829",
   "metadata": {},
   "source": [
    "### Changing, Adding, and Removing items in a List.\n",
    "\n",
    "* Lists are dynamic, i.e., most of the lists you will create, you will add items, change/modify items, remove items and delete the entire list."
   ]
  },
  {
   "cell_type": "code",
   "execution_count": 15,
   "id": "c0a93e24",
   "metadata": {},
   "outputs": [
    {
     "name": "stdout",
     "output_type": "stream",
     "text": [
      "['Supreme', 'High Coat']\n"
     ]
    }
   ],
   "source": [
    "# example list\n",
    "\n",
    "courts = [\"Supreme\", \"High Coat\"]\n",
    "\n",
    "print(courts)"
   ]
  },
  {
   "cell_type": "code",
   "execution_count": 16,
   "id": "fd09c985",
   "metadata": {},
   "outputs": [
    {
     "name": "stdout",
     "output_type": "stream",
     "text": [
      "['Supreme', 'High Court']\n"
     ]
    }
   ],
   "source": [
    "# modifying elements in a list\n",
    "\n",
    "courts[1] = \"High Court\"\n",
    "print(courts)"
   ]
  },
  {
   "cell_type": "code",
   "execution_count": 17,
   "id": "2ef9345d",
   "metadata": {},
   "outputs": [
    {
     "name": "stdout",
     "output_type": "stream",
     "text": [
      "['Supreme', 'High Court', 'Magistrates Court']\n"
     ]
    }
   ],
   "source": [
    "# adding items to a list - introducing new items to a list.\n",
    "\n",
    "#1. Adding elements at the end of a list .i.e. **append** (item)\n",
    "\n",
    "courts.append(\"Magistrates Court\")\n",
    "\n",
    "print(courts)"
   ]
  },
  {
   "cell_type": "code",
   "execution_count": 18,
   "id": "a93050d2",
   "metadata": {},
   "outputs": [
    {
     "name": "stdout",
     "output_type": "stream",
     "text": [
      "['Mango', 'Banana', 'Orange', 'Apple', 'pawpaw']\n"
     ]
    }
   ],
   "source": [
    "# exemple 2 of appending\n",
    "\n",
    "fruits.append(\"pawpaw\")\n",
    "\n",
    "print(fruits)"
   ]
  },
  {
   "cell_type": "code",
   "execution_count": 19,
   "id": "9eb0643c",
   "metadata": {},
   "outputs": [
    {
     "name": "stdout",
     "output_type": "stream",
     "text": [
      "['Supreme', 'Court of Appeal', 'High Court', 'Magistrates Court']\n"
     ]
    }
   ],
   "source": [
    "# insert an item into a list at a specific position.\n",
    "# syntax.insert(index, item)\n",
    "\n",
    "courts.insert(1, \"Court of Appeal\")\n",
    "\n",
    "print(courts)"
   ]
  },
  {
   "cell_type": "code",
   "execution_count": 21,
   "id": "2daec1e4",
   "metadata": {},
   "outputs": [
    {
     "data": {
      "text/plain": [
       "['Mango', 'Banana', 'Orange', 'Apple', 'pawpaw']"
      ]
     },
     "execution_count": 21,
     "metadata": {},
     "output_type": "execute_result"
    }
   ],
   "source": [
    "fruits"
   ]
  },
  {
   "cell_type": "code",
   "execution_count": 22,
   "id": "7405364b",
   "metadata": {},
   "outputs": [
    {
     "name": "stdout",
     "output_type": "stream",
     "text": [
      "['Mango', 'Banana', 'Orange', 'Apple']\n"
     ]
    }
   ],
   "source": [
    "# removing items in a list\n",
    "\n",
    "# 1. using .pop() to remove an item at the end of a list.\n",
    "\n",
    "fruits.pop()\n",
    "\n",
    "print(fruits)"
   ]
  },
  {
   "cell_type": "code",
   "execution_count": 23,
   "id": "6b0e8cbd",
   "metadata": {},
   "outputs": [
    {
     "name": "stdout",
     "output_type": "stream",
     "text": [
      "['Banana', 'Orange', 'Apple']\n"
     ]
    }
   ],
   "source": [
    "# use .pop(index) to remove an item at a particulr position.\n",
    "\n",
    "fruits.pop(0)\n",
    "\n",
    "print(fruits)"
   ]
  },
  {
   "cell_type": "code",
   "execution_count": 25,
   "id": "857a4d17",
   "metadata": {},
   "outputs": [
    {
     "name": "stdout",
     "output_type": "stream",
     "text": [
      "['Banana', 'Apple']\n"
     ]
    }
   ],
   "source": [
    "# use .remove(item_value) to remove item by value.\n",
    "\n",
    "fruits.remove(\"Orange\")\n",
    "\n",
    "print(fruits)"
   ]
  },
  {
   "cell_type": "code",
   "execution_count": 26,
   "id": "80f7126a",
   "metadata": {},
   "outputs": [
    {
     "name": "stdout",
     "output_type": "stream",
     "text": [
      "['Banana']\n"
     ]
    }
   ],
   "source": [
    "# using del statement to remove item in a list.\n",
    "# syntax del list_name[index]\n",
    "\n",
    "del fruits[1]\n",
    "\n",
    "print(fruits)"
   ]
  },
  {
   "cell_type": "code",
   "execution_count": 3,
   "id": "574531e0",
   "metadata": {},
   "outputs": [
    {
     "name": "stdout",
     "output_type": "stream",
     "text": [
      "['Mango', ['Pawpaw', 'Oranges'], 'Guava']\n"
     ]
    }
   ],
   "source": [
    "#Trial list\n",
    "# Example 1\n",
    "\n",
    "fruits= [\"Mango\", [\"Pawpaw\", \"Oranges\"],\"Guava\"]\n",
    "\n",
    "print(fruits)"
   ]
  },
  {
   "cell_type": "code",
   "execution_count": 10,
   "id": "81bfc24f",
   "metadata": {},
   "outputs": [
    {
     "data": {
      "text/plain": [
       "['Pawpaw', 'Oranges']"
      ]
     },
     "execution_count": 10,
     "metadata": {},
     "output_type": "execute_result"
    }
   ],
   "source": [
    "#Example 2\n",
    "\n",
    "fruits= [\"Mango\", [\"Pawpaw\", \"Oranges\"],\"Guava\"]\n",
    "\n",
    "fruits[1]\n"
   ]
  },
  {
   "cell_type": "code",
   "execution_count": 12,
   "id": "f296da82",
   "metadata": {},
   "outputs": [
    {
     "data": {
      "text/plain": [
       "'ORANGES'"
      ]
     },
     "execution_count": 12,
     "metadata": {},
     "output_type": "execute_result"
    }
   ],
   "source": [
    "fruits[1][1].upper()"
   ]
  },
  {
   "cell_type": "code",
   "execution_count": 15,
   "id": "c7793239",
   "metadata": {},
   "outputs": [],
   "source": [
    "noise_makers = [\"Antonny\",\"Kocheli\", \"Martin\", \"Chemu\", \"Nava\"]"
   ]
  },
  {
   "cell_type": "code",
   "execution_count": 18,
   "id": "7f7086a2",
   "metadata": {},
   "outputs": [
    {
     "name": "stdout",
     "output_type": "stream",
     "text": [
      "Present\n"
     ]
    }
   ],
   "source": [
    "# checking items in a list\n",
    "\n",
    "if \"Antonny\" in noise_makers:\n",
    "    print(\"Present\")"
   ]
  },
  {
   "cell_type": "code",
   "execution_count": 20,
   "id": "a126f598",
   "metadata": {},
   "outputs": [
    {
     "name": "stdout",
     "output_type": "stream",
     "text": [
      "['Antonny', 'Kocheli', 'Martin', 'Chemu', 'Nava', 'Solo']\n"
     ]
    }
   ],
   "source": [
    "# adding items not in list\n",
    "\n",
    "if \"Solo\" in noise_makers:\n",
    "    print(\"Present\")\n",
    "else:\n",
    "    noise_makers.append(\"Solo\")\n",
    "    print(noise_makers)"
   ]
  },
  {
   "cell_type": "code",
   "execution_count": 22,
   "id": "becaa114",
   "metadata": {},
   "outputs": [
    {
     "name": "stdout",
     "output_type": "stream",
     "text": [
      "List corrupted\n"
     ]
    }
   ],
   "source": [
    "# checking if an item is not in a list\n",
    "\n",
    "if \"Alex\" not in noise_makers:\n",
    "    print(\"List corrupted\") \n"
   ]
  },
  {
   "cell_type": "code",
   "execution_count": 23,
   "id": "11021325",
   "metadata": {},
   "outputs": [
    {
     "name": "stdout",
     "output_type": "stream",
     "text": [
      "['Alex', 'Antonny', 'Kocheli', 'Martin', 'Chemu', 'Nava', 'Solo']\n"
     ]
    }
   ],
   "source": [
    "# Adding an item not in the list\n",
    "\n",
    "if \"Alex\" not in noise_makers:\n",
    "    noise_makers.insert(0, \"Alex\")\n",
    "    print(noise_makers)"
   ]
  },
  {
   "cell_type": "code",
   "execution_count": 24,
   "id": "e39de1ae",
   "metadata": {},
   "outputs": [
    {
     "data": {
      "text/plain": [
       "7"
      ]
     },
     "execution_count": 24,
     "metadata": {},
     "output_type": "execute_result"
    }
   ],
   "source": [
    "# functions\n",
    "# size of a list\n",
    "\n",
    "len(noise_makers)"
   ]
  },
  {
   "cell_type": "code",
   "execution_count": 26,
   "id": "12206e90",
   "metadata": {},
   "outputs": [
    {
     "name": "stdout",
     "output_type": "stream",
     "text": [
      "[15, 3, 6, 12, 9, 7]\n"
     ]
    }
   ],
   "source": [
    "numbers = [15, 3, 6, 12, 9, 7]\n",
    "\n",
    "# sort to organise numbers\n",
    "\n",
    "print(numbers)"
   ]
  },
  {
   "cell_type": "code",
   "execution_count": null,
   "id": "56c51d79",
   "metadata": {},
   "outputs": [],
   "source": []
  }
 ],
 "metadata": {
  "kernelspec": {
   "display_name": "Python 3 (ipykernel)",
   "language": "python",
   "name": "python3"
  },
  "language_info": {
   "codemirror_mode": {
    "name": "ipython",
    "version": 3
   },
   "file_extension": ".py",
   "mimetype": "text/x-python",
   "name": "python",
   "nbconvert_exporter": "python",
   "pygments_lexer": "ipython3",
   "version": "3.11.3"
  }
 },
 "nbformat": 4,
 "nbformat_minor": 5
}

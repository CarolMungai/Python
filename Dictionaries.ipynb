{
 "cells": [
  {
   "cell_type": "markdown",
   "id": "0ebcac1e",
   "metadata": {},
   "source": [
    "# Dictionaries\n",
    "\n",
    "* A dictionary is a data type that stores data using '''Key value''' pairs.\n",
    "* Use curly brackets ('''{}''') to define dictionaries in python.\n",
    "\n",
    "* Syntax\n",
    "\n",
    "'''{key : value}'''"
   ]
  },
  {
   "cell_type": "code",
   "execution_count": 1,
   "id": "e016e0b3",
   "metadata": {},
   "outputs": [
    {
     "name": "stdout",
     "output_type": "stream",
     "text": [
      "{'Name': 'Carol Mungai', 'Id': 3679, 'Gender': 'Female'}\n"
     ]
    }
   ],
   "source": [
    "# example\n",
    "\n",
    "student = {\n",
    "    \"Name\" : \"Carol Mungai\",\n",
    "    \"Id\": 3679,\n",
    "    \"Gender\": \"Female\"\n",
    "}\n",
    "\n",
    "print(student)"
   ]
  },
  {
   "cell_type": "code",
   "execution_count": 3,
   "id": "fae0e558",
   "metadata": {},
   "outputs": [
    {
     "name": "stdout",
     "output_type": "stream",
     "text": [
      "{'sky': ['Nyambane', 'Eugene', 'Yusuf'], 'friends of sky': ['Martin', 'Lumumba', 'Chemu'], 'kitchen cabiet': ['Maggy', 'Eva', 'Linda'], 'Office keepers': ['Kocheli', 'Ngobiro', 'John']}\n"
     ]
    }
   ],
   "source": [
    "# example 2\n",
    "\n",
    "office = {\n",
    "    \"sky\" : [\"Nyambane\", \"Eugene\", \"Yusuf\"],\n",
    "    \"friends of sky\" : [\"Martin\", \"Lumumba\", \"Chemu\"],\n",
    "    \"kitchen cabiet\" : [\"Maggy\", \"Eva\", \"Linda\"],\n",
    "    \"Office keepers\" : [\"Kocheli\", \"Ngobiro\", \"John\"]\n",
    "}\n",
    "\n",
    "print(office)"
   ]
  },
  {
   "cell_type": "code",
   "execution_count": 4,
   "id": "e1b9277d",
   "metadata": {},
   "outputs": [
    {
     "data": {
      "text/plain": [
       "dict_keys(['sky', 'friends of sky', 'kitchen cabiet', 'Office keepers'])"
      ]
     },
     "execution_count": 4,
     "metadata": {},
     "output_type": "execute_result"
    }
   ],
   "source": [
    "# keys of a dictionary\n",
    "\n",
    "office.keys()"
   ]
  },
  {
   "cell_type": "code",
   "execution_count": 7,
   "id": "7a6d3309",
   "metadata": {},
   "outputs": [
    {
     "name": "stdout",
     "output_type": "stream",
     "text": [
      "['Kocheli', 'Ngobiro', 'John']\n"
     ]
    }
   ],
   "source": [
    "# access values in a dictionary using keys\n",
    "# syntax dictionary_nae[key]\n",
    "# example 1\n",
    "\n",
    "print(office['Office keepers'])"
   ]
  },
  {
   "cell_type": "code",
   "execution_count": 8,
   "id": "43ac7430",
   "metadata": {},
   "outputs": [
    {
     "name": "stdout",
     "output_type": "stream",
     "text": [
      "['Nyambane', 'Eugene', 'Yusuf']\n"
     ]
    }
   ],
   "source": [
    "# example 2\n",
    "\n",
    "print(office[\"sky\"])"
   ]
  },
  {
   "cell_type": "code",
   "execution_count": 10,
   "id": "e2341f35",
   "metadata": {},
   "outputs": [
    {
     "name": "stdout",
     "output_type": "stream",
     "text": [
      "{'sky': ['Nyambane', 'Eugene', 'Yusuf', 'Kim', 'Kimalu'], 'friends of sky': ['Martin', 'Lumumba', 'Chemu'], 'kitchen cabiet': ['Maggy', 'Eva', 'Linda'], 'Office keepers': ['Kocheli', 'Ngobiro', 'John']}\n"
     ]
    }
   ],
   "source": [
    "# Remember lists append?\n",
    "\n",
    "office[\"sky\"].append(\"Kimalu\")\n",
    "\n",
    "print(office)"
   ]
  },
  {
   "cell_type": "code",
   "execution_count": 13,
   "id": "be9a1ec7",
   "metadata": {},
   "outputs": [
    {
     "name": "stdout",
     "output_type": "stream",
     "text": [
      "{'sky': ['Nyambane', 'Eugene', 'Yusuf', 'Kimalu'], 'friends of sky': ['Martin', 'Lumumba', 'Chemu'], 'kitchen cabiet': ['Maggy', 'Eva', 'Linda'], 'Office keepers': ['Kocheli', 'Ngobiro', 'John']}\n"
     ]
    }
   ],
   "source": [
    "# Removing name Kim using .pop \n",
    "\n",
    "office[\"sky\"].pop(3)\n",
    "\n",
    "print(office)"
   ]
  },
  {
   "cell_type": "code",
   "execution_count": 18,
   "id": "2de96275",
   "metadata": {},
   "outputs": [
    {
     "name": "stdout",
     "output_type": "stream",
     "text": [
      "Martin\n"
     ]
    }
   ],
   "source": [
    "print(office[\"friends of sky\"][0])"
   ]
  },
  {
   "cell_type": "code",
   "execution_count": 36,
   "id": "73f19f95",
   "metadata": {},
   "outputs": [
    {
     "name": "stdout",
     "output_type": "stream",
     "text": [
      "Carol had the following for breakfastHot chocolate\n"
     ]
    }
   ],
   "source": [
    "# cafe\n",
    "\n",
    "menu = {\n",
    "    \"Breakfast\" : {\n",
    "        \"Bevarages\" : {\n",
    "            \"Tea\" : [\"Masala\", \"Ginger\", \"Caramel\"],\n",
    "            \"Coffee\" : [\"Black\", \"White\", \"Latte\"],\n",
    "            \"Cocoa\" : [\"Hot chocolate\", \"Free range\"]\n",
    "    },\n",
    "    \"Accompaniments\" : {\n",
    "        \"Wings\" : [\"Hot wings\", \"Spicy\", \"Lemon and herbs\"],\n",
    "        \"Kienyeji\" : [\"Nduma\", \"Nguashe\", \"Cassava\"],\n",
    "    },\n",
    " },\n",
    "    \"Lunch\" : {\n",
    "        \"Carbohydrates\" : [\"Ugali\", \"Mukimo\", \"Rice\"],\n",
    "        \"Vegetables\" : [\"Spinach\", \"Cabbage\"],\n",
    "        \"Proteins\" : [\"Chicken\", \"Fish\", \"Mutton\"],\n",
    "    }\n",
    "}\n",
    "\n",
    "print(\"Carol had the following for breakfast\" + menu [\"Breakfast\"][\"Bevarages\"][\"Cocoa\"][0])"
   ]
  },
  {
   "cell_type": "code",
   "execution_count": 37,
   "id": "da29f7a5",
   "metadata": {},
   "outputs": [
    {
     "data": {
      "text/plain": [
       "dict"
      ]
     },
     "execution_count": 37,
     "metadata": {},
     "output_type": "execute_result"
    }
   ],
   "source": [
    "type(menu[\"Breakfast\"])"
   ]
  },
  {
   "cell_type": "code",
   "execution_count": 38,
   "id": "df1cc599",
   "metadata": {},
   "outputs": [
    {
     "data": {
      "text/plain": [
       "dict_keys(['Bevarages', 'Accompaniments'])"
      ]
     },
     "execution_count": 38,
     "metadata": {},
     "output_type": "execute_result"
    }
   ],
   "source": [
    "menu[\"Breakfast\"].keys()"
   ]
  },
  {
   "cell_type": "code",
   "execution_count": 40,
   "id": "11f97c04",
   "metadata": {},
   "outputs": [
    {
     "name": "stdout",
     "output_type": "stream",
     "text": [
      "{'Tea': ['Masala', 'Ginger', 'Caramel'], 'Coffee': ['Black', 'White', 'Latte'], 'Cocoa': ['Hot chocolate', 'Free range']}\n"
     ]
    }
   ],
   "source": [
    "print(menu[\"Breakfast\"][\"Bevarages\"])"
   ]
  },
  {
   "cell_type": "code",
   "execution_count": 42,
   "id": "ae66cc51",
   "metadata": {},
   "outputs": [
    {
     "name": "stdout",
     "output_type": "stream",
     "text": [
      "['Hot chocolate', 'Free range']\n"
     ]
    }
   ],
   "source": [
    "print(menu[\"Breakfast\"][\"Bevarages\"][\"Cocoa\"])"
   ]
  },
  {
   "cell_type": "code",
   "execution_count": 45,
   "id": "6dfb428c",
   "metadata": {},
   "outputs": [
    {
     "name": "stdout",
     "output_type": "stream",
     "text": [
      "Hot chocolate\n"
     ]
    }
   ],
   "source": [
    "print(menu[\"Breakfast\"][\"Bevarages\"][\"Cocoa\"][0])"
   ]
  },
  {
   "cell_type": "code",
   "execution_count": 47,
   "id": "8829eda4",
   "metadata": {},
   "outputs": [
    {
     "name": "stdout",
     "output_type": "stream",
     "text": [
      "Carol had the following for Breakfast: \n",
      "\t* Hot chocolate\n"
     ]
    }
   ],
   "source": [
    "print(f\"Carol had the following for Breakfast: \\n\\t* {menu['Breakfast']['Bevarages']['Cocoa'][0]}\")"
   ]
  },
  {
   "cell_type": "code",
   "execution_count": null,
   "id": "caab9d1e",
   "metadata": {},
   "outputs": [],
   "source": []
  }
 ],
 "metadata": {
  "kernelspec": {
   "display_name": "Python 3 (ipykernel)",
   "language": "python",
   "name": "python3"
  },
  "language_info": {
   "codemirror_mode": {
    "name": "ipython",
    "version": 3
   },
   "file_extension": ".py",
   "mimetype": "text/x-python",
   "name": "python",
   "nbconvert_exporter": "python",
   "pygments_lexer": "ipython3",
   "version": "3.11.3"
  }
 },
 "nbformat": 4,
 "nbformat_minor": 5
}

{
 "cells": [
  {
   "cell_type": "markdown",
   "id": "ae3ea927",
   "metadata": {},
   "source": [
    "# Functions."
   ]
  },
  {
   "cell_type": "markdown",
   "id": "83cf0632",
   "metadata": {},
   "source": [
    "* A block of code that are designed to do one specific job.\n",
    "* When one wants to perform a particular task that they have defined in a function, you *call* the function responsible for it.\n",
    "* If one needs to perform that task multiple times through out your program, you do not need to type the code all over again and again: you just call the function dedicated to handing that task.\n",
    "* Using functions makes the program easy to write, read, test and fix."
   ]
  },
  {
   "cell_type": "code",
   "execution_count": 1,
   "id": "cbf7dc83",
   "metadata": {},
   "outputs": [
    {
     "name": "stdout",
     "output_type": "stream",
     "text": [
      "The Zen of Python, by Tim Peters\n",
      "\n",
      "Beautiful is better than ugly.\n",
      "Explicit is better than implicit.\n",
      "Simple is better than complex.\n",
      "Complex is better than complicated.\n",
      "Flat is better than nested.\n",
      "Sparse is better than dense.\n",
      "Readability counts.\n",
      "Special cases aren't special enough to break the rules.\n",
      "Although practicality beats purity.\n",
      "Errors should never pass silently.\n",
      "Unless explicitly silenced.\n",
      "In the face of ambiguity, refuse the temptation to guess.\n",
      "There should be one-- and preferably only one --obvious way to do it.\n",
      "Although that way may not be obvious at first unless you're Dutch.\n",
      "Now is better than never.\n",
      "Although never is often better than *right* now.\n",
      "If the implementation is hard to explain, it's a bad idea.\n",
      "If the implementation is easy to explain, it may be a good idea.\n",
      "Namespaces are one honking great idea -- let's do more of those!\n"
     ]
    }
   ],
   "source": [
    "# zen of python\n",
    "import this"
   ]
  },
  {
   "cell_type": "markdown",
   "id": "defd2db5",
   "metadata": {},
   "source": [
    "## Types of Functions\n",
    "\n",
    "1. 'User-defined functions' - Functions that we create/define ourselves in our program and then call them wherever we want.\n",
    "2. 'Built-in Functions' - Functions already defined in Python libraries and we call the directly."
   ]
  },
  {
   "cell_type": "markdown",
   "id": "1140ac30",
   "metadata": {},
   "source": [
    "# Defining a Function."
   ]
  },
  {
   "cell_type": "code",
   "execution_count": 10,
   "id": "499702b3",
   "metadata": {},
   "outputs": [
    {
     "name": "stdout",
     "output_type": "stream",
     "text": [
      "Hello !\n"
     ]
    }
   ],
   "source": [
    "# example 1\n",
    "\n",
    "def greet_user():\n",
    "    \"\"\"Dislay a simple greeting\"\"\"\n",
    "    print(\"Hello !\")\n",
    "    \n",
    "greet_user()"
   ]
  },
  {
   "cell_type": "markdown",
   "id": "c3c97b65",
   "metadata": {},
   "source": [
    " **'def greet_user():'**\n",
    "    \n",
    "* Using the keyword 'def' to inform python that you are defining a function. Refered to as *function definition*.\n",
    "* Function definition tells python the name of the function, in the example 1 above, **greet_user**.\n",
    "* It also informs python, if applicable, what kind of information the function needs to perform its task/job, this is passed into the function using the '() - parenthesis'. In this case, the function needs no information to perform its tasks hence the empty brackets.\n",
    "* Any indented lines that follow the ':- semicolon'make up the body of the function.\n",
    "\n",
    " **'\"\"\"Display a simple greeting\"\"\"'**\n",
    "\n",
    "* Comment called *docstring*, that describes what the function does.\n",
    "* If a single short one line statement, we can use a #.\n",
    "\n",
    " **'print(\"Hello World !\")''**\n",
    "* Function body line(s) indented inside the function.\n",
    "* Contains set of instructions on the code to be executed.\n",
    "\n",
    " **'greet_user()'**\n",
    "* When you want to call a function, you call it.\n",
    "* A **function call** tells python to execute the indented code in the function body.\n",
    "* To call a function, write the function name, in our example above, 'greet_user', followed by any necessary information in the '()'.\n",
    "* example function call ; greet_user().\n",
    "    "
   ]
  },
  {
   "cell_type": "markdown",
   "id": "da4a3216",
   "metadata": {},
   "source": [
    "## comment\n",
    "\n",
    "\"\"\"Comment\"\"\"\n",
    "\n",
    "\"\"\"\n",
    "This is a multiple line comment\n",
    "The tripple double quotes\n",
    "Used to create multiple line comments\n",
    "\"\"\"\n",
    "can also be writen as ;\n",
    "\n",
    "#This is a multiple line comment\n",
    "#The tripple double quotes\n",
    "#Used to create multiple line comments\n"
   ]
  },
  {
   "cell_type": "code",
   "execution_count": 8,
   "id": "eb94f3f2",
   "metadata": {},
   "outputs": [
    {
     "name": "stdout",
     "output_type": "stream",
     "text": [
      "7\n"
     ]
    }
   ],
   "source": [
    "# example  2\n",
    "  # defining our function\n",
    "    \"\"\"Simple function to add numbers\"\"\"\n",
    "    a = 2\n",
    "    b = 5\n",
    "    sum = a + b\n",
    "    print(sum)\n",
    "    \n",
    "add_numbers()  # calling our function"
   ]
  },
  {
   "cell_type": "markdown",
   "id": "58ec7a5e",
   "metadata": {},
   "source": [
    "### Passing information to a function.\n",
    "\n",
    "* The function greet_user can only tell the useer *Hello* but cannot greet them by name.\n"
   ]
  },
  {
   "cell_type": "code",
   "execution_count": 11,
   "id": "612c5f1e",
   "metadata": {},
   "outputs": [
    {
     "name": "stdout",
     "output_type": "stream",
     "text": [
      "Hello Mungai !\n"
     ]
    }
   ],
   "source": [
    "# example 3\n",
    "\n",
    "def greet_user(username):\n",
    "    \"\"\"Dislay a simple greeting\"\"\"\n",
    "    print(f\"Hello {username} !\")\n",
    "    \n",
    "greet_user('Mungai')"
   ]
  },
  {
   "cell_type": "markdown",
   "id": "d20cac3d",
   "metadata": {},
   "source": [
    "* By adding the 'username' in our function definition, we are allowing the function to accept any value for *username*.\n",
    "* Expectations: - provide a value for a *username* each time you call it."
   ]
  },
  {
   "cell_type": "code",
   "execution_count": 17,
   "id": "706de47a",
   "metadata": {},
   "outputs": [
    {
     "name": "stdout",
     "output_type": "stream",
     "text": [
      "Hello Nessa !\n"
     ]
    }
   ],
   "source": [
    "# example 4\n",
    "# second function call - changing value names \n",
    "\n",
    "greet_user('Nessa') # here we have changed the user name value"
   ]
  },
  {
   "cell_type": "markdown",
   "id": "cdaa23fc",
   "metadata": {},
   "source": [
    "* 'parameters' - in the example greet_user(username), *username* is the parameter. A piece of information the function needs to do its job/task.\n",
    "* 'arguments' - the value *Mungai* and *Nessa* are arguments. A piece of information that is passed from a function call to a function.\n"
   ]
  },
  {
   "cell_type": "code",
   "execution_count": 18,
   "id": "a653c46c",
   "metadata": {},
   "outputs": [
    {
     "ename": "TypeError",
     "evalue": "greet_user() missing 1 required positional argument: 'username'",
     "output_type": "error",
     "traceback": [
      "\u001b[1;31m---------------------------------------------------------------------------\u001b[0m",
      "\u001b[1;31mTypeError\u001b[0m                                 Traceback (most recent call last)",
      "Cell \u001b[1;32mIn[18], line 4\u001b[0m\n\u001b[0;32m      1\u001b[0m \u001b[38;5;66;03m# example 5\u001b[39;00m\n\u001b[0;32m      2\u001b[0m \u001b[38;5;66;03m# third function call\u001b[39;00m\n\u001b[1;32m----> 4\u001b[0m greet_user()\n",
      "\u001b[1;31mTypeError\u001b[0m: greet_user() missing 1 required positional argument: 'username'"
     ]
    }
   ],
   "source": [
    "# example 5\n",
    "# third function call\n",
    "\n",
    "greet_user()"
   ]
  },
  {
   "cell_type": "markdown",
   "id": "f62bdf61",
   "metadata": {},
   "source": [
    "* We must pass in arguments during function calls to avoid errors."
   ]
  },
  {
   "cell_type": "code",
   "execution_count": 19,
   "id": "e81580cf",
   "metadata": {},
   "outputs": [
    {
     "name": "stdout",
     "output_type": "stream",
     "text": [
      "I have a Cat,\n",
      "My Cat's name is Fluffy.\n"
     ]
    }
   ],
   "source": [
    "# example 6\n",
    "\n",
    "def describe_pet(animal_type, pet_name):\n",
    "    \"\"\"Display information about a pet\"\"\"\n",
    "    print(f\"I have a {animal_type},\")\n",
    "    print(f\"My {animal_type}'s name is {pet_name}.\")\n",
    "    \n",
    "describe_pet('Cat', 'Fluffy')"
   ]
  },
  {
   "cell_type": "markdown",
   "id": "1c2ce56c",
   "metadata": {},
   "source": [
    "* When you call a function, Python must match each argument in the function call with a parameter in the function definition."
   ]
  },
  {
   "cell_type": "code",
   "execution_count": 22,
   "id": "ac109978",
   "metadata": {},
   "outputs": [
    {
     "name": "stdout",
     "output_type": "stream",
     "text": [
      "I have a Milo,\n",
      "My Milo's name is Dog.\n"
     ]
    }
   ],
   "source": [
    "# the arguments should match the order of the parameter eg.\n",
    "\n",
    "describe_pet('Milo', 'Dog') # this is wrong"
   ]
  },
  {
   "cell_type": "code",
   "execution_count": 24,
   "id": "ed78e8d2",
   "metadata": {},
   "outputs": [
    {
     "name": "stdout",
     "output_type": "stream",
     "text": [
      "I have a Dog,\n",
      "My Dog's name is Milo.\n"
     ]
    }
   ],
   "source": [
    "# alternatively use keyword arguments\n",
    "\n",
    "describe_pet(pet_name='Milo', animal_type='Dog')  # assign arguments to parameters"
   ]
  },
  {
   "cell_type": "code",
   "execution_count": null,
   "id": "8e83b68c",
   "metadata": {},
   "outputs": [],
   "source": [
    "# default values\n",
    "\n",
    "def describe_pet(pet_name, animal_type = 'Cat'):\n",
    "    \"\"\"Display information about a pet\"\"\"\n",
    "    print(f\"I have a {animal_type},\")\n",
    "    print(f\"My {animal_type}'s name is {pet_name}.\")\n",
    "    \n",
    "describe_pet(Fluffy')"
   ]
  },
  {
   "cell_type": "markdown",
   "id": "a8f39914",
   "metadata": {},
   "source": [
    "* Defining a **default value** for the parameter 'animal_type' and setting it as 'Cat'.\n"
   ]
  },
  {
   "cell_type": "code",
   "execution_count": 25,
   "id": "6e641d46",
   "metadata": {},
   "outputs": [
    {
     "ename": "TypeError",
     "evalue": "describe_pet() missing 1 required positional argument: 'pet_name'",
     "output_type": "error",
     "traceback": [
      "\u001b[1;31m---------------------------------------------------------------------------\u001b[0m",
      "\u001b[1;31mTypeError\u001b[0m                                 Traceback (most recent call last)",
      "Cell \u001b[1;32mIn[25], line 1\u001b[0m\n\u001b[1;32m----> 1\u001b[0m describe_pet(\u001b[38;5;124m'\u001b[39m\u001b[38;5;124mFluffy\u001b[39m\u001b[38;5;124m'\u001b[39m)\n",
      "\u001b[1;31mTypeError\u001b[0m: describe_pet() missing 1 required positional argument: 'pet_name'"
     ]
    }
   ],
   "source": [
    "describe_pet('Fluffy')"
   ]
  },
  {
   "cell_type": "code",
   "execution_count": 26,
   "id": "631b1aa4",
   "metadata": {},
   "outputs": [
    {
     "name": "stdout",
     "output_type": "stream",
     "text": [
      "I have a Milo,\n",
      "My Milo's name is Dog.\n"
     ]
    }
   ],
   "source": [
    "describe_pet('Milo', 'Dog')"
   ]
  },
  {
   "cell_type": "code",
   "execution_count": null,
   "id": "cfecc94d",
   "metadata": {},
   "outputs": [],
   "source": []
  },
  {
   "cell_type": "code",
   "execution_count": null,
   "id": "e6b9909d",
   "metadata": {},
   "outputs": [],
   "source": []
  },
  {
   "cell_type": "code",
   "execution_count": null,
   "id": "a1992432",
   "metadata": {},
   "outputs": [],
   "source": []
  },
  {
   "cell_type": "code",
   "execution_count": null,
   "id": "53741ab6",
   "metadata": {},
   "outputs": [],
   "source": []
  },
  {
   "cell_type": "code",
   "execution_count": null,
   "id": "d75507f2",
   "metadata": {},
   "outputs": [],
   "source": []
  },
  {
   "cell_type": "code",
   "execution_count": null,
   "id": "0f71ce13",
   "metadata": {},
   "outputs": [],
   "source": []
  },
  {
   "cell_type": "code",
   "execution_count": 37,
   "id": "51ed1de5",
   "metadata": {},
   "outputs": [
    {
     "name": "stdout",
     "output_type": "stream",
     "text": [
      "student name e.g Vee Nessa \n",
      "Vee Nessa\n"
     ]
    },
    {
     "data": {
      "text/plain": [
       "'Vee Nessa'"
      ]
     },
     "execution_count": 37,
     "metadata": {},
     "output_type": "execute_result"
    }
   ],
   "source": [
    "### Saturday 19.8.23\n",
    "## Functions example\n",
    "# Example 1\n",
    "\n",
    "\n",
    "# Get student name\n",
    "\n",
    "def get_student_name():\n",
    "   \n",
    "    name = input(\"student name e.g Vee Nessa \\n\")\n",
    "    \n",
    "    return name\n",
    "\n",
    "get_student_name()"
   ]
  },
  {
   "cell_type": "code",
   "execution_count": 38,
   "id": "67d50214",
   "metadata": {},
   "outputs": [
    {
     "name": "stdout",
     "output_type": "stream",
     "text": [
      "Enter English score: \n",
      "98\n",
      "Enter Kiswahili score: \n",
      "93\n",
      "Enter Maths score: \n",
      "87\n",
      "Enter Science score: \n",
      "89\n",
      "Enter GHC score: \n",
      "90\n"
     ]
    },
    {
     "data": {
      "text/plain": [
       "[98, 93, 87, 89, 90]"
      ]
     },
     "execution_count": 38,
     "metadata": {},
     "output_type": "execute_result"
    }
   ],
   "source": [
    "\n",
    "# example 2\n",
    "\n",
    "# Get student scores\n",
    "\n",
    "def get_scores():\n",
    "    \"\"\"Get user input\"\"\"\n",
    "    student_scores = []\n",
    "    subjects = [\"English\", \"Kiswahili\", \"Maths\", \"Science\", \"GHC\"]\n",
    "\n",
    "    for subject in subjects:\n",
    "        score = int(input(f\"Enter {subject} score: \\n\"))\n",
    "        student_scores.append(score)\n",
    "\n",
    "    return student_scores\n",
    "\n",
    "get_scores()"
   ]
  },
  {
   "cell_type": "code",
   "execution_count": 42,
   "id": "af341294",
   "metadata": {},
   "outputs": [
    {
     "name": "stdout",
     "output_type": "stream",
     "text": [
      "Enter English score: \n",
      "98\n",
      "Enter Kiswahili score: \n",
      "93\n",
      "Enter Maths score: \n",
      "87\n",
      "Enter Science score: \n",
      "89\n",
      "Enter GHC score: \n",
      "90\n"
     ]
    },
    {
     "data": {
      "text/plain": [
       "['A', 'A', 'A', 'A', 'A']"
      ]
     },
     "execution_count": 42,
     "metadata": {},
     "output_type": "execute_result"
    }
   ],
   "source": [
    "# example 3\n",
    "# students grades\n",
    "\n",
    "def student_grade():\n",
    "\n",
    "    student_grade = []\n",
    "    student_scores = get_scores()\n",
    "    # loop through the grades\n",
    "\n",
    "    for score in student_scores:\n",
    "        if (score >= 70) and (score <= 100):\n",
    "            grade = \"A\"\n",
    "            student_grade.append(grade)\n",
    "        elif (score >= 60) and (score <= 69):\n",
    "            grade = \"B\"\n",
    "            student_grade.append(grade)\n",
    "        elif (score >= 50) and (score <= 59):\n",
    "            grade = \"C\"\n",
    "            student_grade.append(grade)\n",
    "        elif (score >= 40) and (score >= 49):\n",
    "            grade = \"D\"\n",
    "        elif (score >= 39) and (score >= 0):\n",
    "            grade = \"E\"\n",
    "            student_grade.append(grade)\n",
    "            \n",
    "        else:\n",
    "            print(\"Invalid grade\")\n",
    "            student_grade.append(None)\n",
    "    return student_grade\n",
    "\n",
    "student_grade()"
   ]
  },
  {
   "cell_type": "code",
   "execution_count": 48,
   "id": "7ee7010d",
   "metadata": {},
   "outputs": [
    {
     "name": "stdout",
     "output_type": "stream",
     "text": [
      "Enter English score: \n",
      "98\n",
      "Enter Kiswahili score: \n",
      "93\n",
      "Enter Maths score: \n",
      "87\n",
      "Enter Science score: \n",
      "89\n",
      "Enter GHC score: \n",
      "90\n"
     ]
    },
    {
     "data": {
      "text/plain": [
       "457"
      ]
     },
     "execution_count": 48,
     "metadata": {},
     "output_type": "execute_result"
    }
   ],
   "source": [
    "# get student total\n",
    "\n",
    "def student_total():\n",
    "    \"\"\"Get total scores\n",
    "    \n",
    "    Returns:\n",
    "        Total student scores out of 500\n",
    "    \"\"\"\n",
    "    student_scores = get_grade()\n",
    "    total = sum(student_scores)\n",
    "    \n",
    "    return total\n",
    "\n",
    "student_total()"
   ]
  },
  {
   "cell_type": "code",
   "execution_count": 67,
   "id": "a657389a",
   "metadata": {},
   "outputs": [],
   "source": [
    "# example 2\n",
    "def student_performance():\n",
    "    \"\"\"\n",
    "    Get student name\n",
    "    Grade student scores\n",
    "    Student grade\n",
    "    Sum of student scores\n",
    "    \n",
    "    return: \n",
    "    \n",
    "     student name, student scores, student grade, sum           \n",
    "    \n",
    "    \"\"\"\n",
    "    student_name = get_student_name()\n",
    "    student_scores = get_scores()\n",
    "    student_grade = []\n",
    "\n",
    "    # loop through the grades\n",
    "\n",
    "    for score in student_scores:\n",
    "        if (score >= 70) and (score <= 100):\n",
    "            grade = \"A\"\n",
    "            student_grade.append(grade)\n",
    "        elif (score >= 60) and (score <= 69):\n",
    "            grade = \"B\"\n",
    "            student_grade.append(grade)\n",
    "        elif (score >= 50) and (score <= 59):\n",
    "            grade = \"C\"\n",
    "            student_grade.append(grade)\n",
    "        elif (score >= 40) and (score >= 49):\n",
    "            grade = \"D\"\n",
    "        elif (score >= 39) and (score >= 0):\n",
    "            grade = \"E\"\n",
    "            student_grade.append(grade)\n",
    "            \n",
    "        else:\n",
    "            print(\"Invalid grade\")\n",
    "            student_grade.append(None)\n",
    "            \n",
    "    total = sum(student_scores)\n",
    "            \n",
    "    return student_name, student_scores, student_grade, total"
   ]
  },
  {
   "cell_type": "code",
   "execution_count": 70,
   "id": "4e23e883",
   "metadata": {},
   "outputs": [
    {
     "ename": "KeyboardInterrupt",
     "evalue": "Interrupted by user",
     "output_type": "error",
     "traceback": [
      "\u001b[1;31m---------------------------------------------------------------------------\u001b[0m",
      "\u001b[1;31mKeyboardInterrupt\u001b[0m                         Traceback (most recent call last)",
      "Cell \u001b[1;32mIn[70], line 1\u001b[0m\n\u001b[1;32m----> 1\u001b[0m student_performance()\n",
      "Cell \u001b[1;32mIn[67], line 14\u001b[0m, in \u001b[0;36mstudent_performance\u001b[1;34m()\u001b[0m\n\u001b[0;32m      2\u001b[0m \u001b[38;5;28;01mdef\u001b[39;00m \u001b[38;5;21mstudent_performance\u001b[39m():\n\u001b[0;32m      3\u001b[0m \u001b[38;5;250m    \u001b[39m\u001b[38;5;124;03m\"\"\"\u001b[39;00m\n\u001b[0;32m      4\u001b[0m \u001b[38;5;124;03m    Get student name\u001b[39;00m\n\u001b[0;32m      5\u001b[0m \u001b[38;5;124;03m    Grade student scores\u001b[39;00m\n\u001b[1;32m   (...)\u001b[0m\n\u001b[0;32m     12\u001b[0m \u001b[38;5;124;03m    \u001b[39;00m\n\u001b[0;32m     13\u001b[0m \u001b[38;5;124;03m    \"\"\"\u001b[39;00m\n\u001b[1;32m---> 14\u001b[0m     student_name \u001b[38;5;241m=\u001b[39m get_student_name()\n\u001b[0;32m     15\u001b[0m     student_scores \u001b[38;5;241m=\u001b[39m get_scores()\n\u001b[0;32m     16\u001b[0m     student_grade \u001b[38;5;241m=\u001b[39m []\n",
      "Cell \u001b[1;32mIn[37], line 10\u001b[0m, in \u001b[0;36mget_student_name\u001b[1;34m()\u001b[0m\n\u001b[0;32m      8\u001b[0m \u001b[38;5;28;01mdef\u001b[39;00m \u001b[38;5;21mget_student_name\u001b[39m():\n\u001b[1;32m---> 10\u001b[0m     name \u001b[38;5;241m=\u001b[39m \u001b[38;5;28minput\u001b[39m(\u001b[38;5;124m\"\u001b[39m\u001b[38;5;124mstudent name e.g Vee Nessa \u001b[39m\u001b[38;5;130;01m\\n\u001b[39;00m\u001b[38;5;124m\"\u001b[39m)\n\u001b[0;32m     12\u001b[0m     \u001b[38;5;28;01mreturn\u001b[39;00m name\n",
      "File \u001b[1;32m~\\anaconda\\Lib\\site-packages\\ipykernel\\kernelbase.py:1175\u001b[0m, in \u001b[0;36mKernel.raw_input\u001b[1;34m(self, prompt)\u001b[0m\n\u001b[0;32m   1171\u001b[0m \u001b[38;5;28;01mif\u001b[39;00m \u001b[38;5;129;01mnot\u001b[39;00m \u001b[38;5;28mself\u001b[39m\u001b[38;5;241m.\u001b[39m_allow_stdin:\n\u001b[0;32m   1172\u001b[0m     \u001b[38;5;28;01mraise\u001b[39;00m StdinNotImplementedError(\n\u001b[0;32m   1173\u001b[0m         \u001b[38;5;124m\"\u001b[39m\u001b[38;5;124mraw_input was called, but this frontend does not support input requests.\u001b[39m\u001b[38;5;124m\"\u001b[39m\n\u001b[0;32m   1174\u001b[0m     )\n\u001b[1;32m-> 1175\u001b[0m \u001b[38;5;28;01mreturn\u001b[39;00m \u001b[38;5;28mself\u001b[39m\u001b[38;5;241m.\u001b[39m_input_request(\n\u001b[0;32m   1176\u001b[0m     \u001b[38;5;28mstr\u001b[39m(prompt),\n\u001b[0;32m   1177\u001b[0m     \u001b[38;5;28mself\u001b[39m\u001b[38;5;241m.\u001b[39m_parent_ident[\u001b[38;5;124m\"\u001b[39m\u001b[38;5;124mshell\u001b[39m\u001b[38;5;124m\"\u001b[39m],\n\u001b[0;32m   1178\u001b[0m     \u001b[38;5;28mself\u001b[39m\u001b[38;5;241m.\u001b[39mget_parent(\u001b[38;5;124m\"\u001b[39m\u001b[38;5;124mshell\u001b[39m\u001b[38;5;124m\"\u001b[39m),\n\u001b[0;32m   1179\u001b[0m     password\u001b[38;5;241m=\u001b[39m\u001b[38;5;28;01mFalse\u001b[39;00m,\n\u001b[0;32m   1180\u001b[0m )\n",
      "File \u001b[1;32m~\\anaconda\\Lib\\site-packages\\ipykernel\\kernelbase.py:1217\u001b[0m, in \u001b[0;36mKernel._input_request\u001b[1;34m(self, prompt, ident, parent, password)\u001b[0m\n\u001b[0;32m   1214\u001b[0m             \u001b[38;5;28;01mbreak\u001b[39;00m\n\u001b[0;32m   1215\u001b[0m \u001b[38;5;28;01mexcept\u001b[39;00m \u001b[38;5;167;01mKeyboardInterrupt\u001b[39;00m:\n\u001b[0;32m   1216\u001b[0m     \u001b[38;5;66;03m# re-raise KeyboardInterrupt, to truncate traceback\u001b[39;00m\n\u001b[1;32m-> 1217\u001b[0m     \u001b[38;5;28;01mraise\u001b[39;00m \u001b[38;5;167;01mKeyboardInterrupt\u001b[39;00m(\u001b[38;5;124m\"\u001b[39m\u001b[38;5;124mInterrupted by user\u001b[39m\u001b[38;5;124m\"\u001b[39m) \u001b[38;5;28;01mfrom\u001b[39;00m \u001b[38;5;28;01mNone\u001b[39;00m\n\u001b[0;32m   1218\u001b[0m \u001b[38;5;28;01mexcept\u001b[39;00m \u001b[38;5;167;01mException\u001b[39;00m:\n\u001b[0;32m   1219\u001b[0m     \u001b[38;5;28mself\u001b[39m\u001b[38;5;241m.\u001b[39mlog\u001b[38;5;241m.\u001b[39mwarning(\u001b[38;5;124m\"\u001b[39m\u001b[38;5;124mInvalid Message:\u001b[39m\u001b[38;5;124m\"\u001b[39m, exc_info\u001b[38;5;241m=\u001b[39m\u001b[38;5;28;01mTrue\u001b[39;00m)\n",
      "\u001b[1;31mKeyboardInterrupt\u001b[0m: Interrupted by user"
     ]
    }
   ],
   "source": [
    "student_performance()"
   ]
  },
  {
   "cell_type": "code",
   "execution_count": 71,
   "id": "2f0c400d",
   "metadata": {},
   "outputs": [
    {
     "name": "stdout",
     "output_type": "stream",
     "text": [
      "student name e.g Vee Nessa \n",
      "Vee Nessa\n",
      "Enter English score: \n",
      "98\n",
      "Enter Kiswahili score: \n",
      "93\n",
      "Enter Maths score: \n",
      "87\n",
      "Enter Science score: \n",
      "89\n",
      "Enter GHC score: \n",
      "90\n",
      "student name e.g Vee Nessa \n",
      "Ali Star\n",
      "Enter English score: \n",
      "100\n",
      "Enter Kiswahili score: \n",
      "95\n",
      "Enter Maths score: \n",
      "90\n",
      "Enter Science score: \n",
      "89\n",
      "Enter GHC score: \n",
      "93\n"
     ]
    }
   ],
   "source": [
    "# adding more students performance\n",
    "\n",
    "student_number = 0\n",
    "class_performance = {\n",
    "    \"Name\":[], \n",
    "    \"English\":[],\n",
    "    \"English_grade\":[],\n",
    "    \"Kiswahili\":[],\n",
    "    \"Kiswahili_grade\":[],\n",
    "    \"Maths\":[],\n",
    "    \"Maths_grade\":[],\n",
    "    \"Science\":[],\n",
    "    \"Science_grade\":[],\n",
    "    \"GHC\":[],\n",
    "    \"GHC_grade\":[],\n",
    "    \"Total\":[],\n",
    "}\n",
    "while (student_number < 2):\n",
    "    Individual_student = student_performance()\n",
    "    Individual_student = list(Individual_student)\n",
    "    class_performance[\"Name\"].append(Individual_student[0])\n",
    "    class_performance[\"English\"].append(Individual_student[1][0])\n",
    "    class_performance[\"English_grade\"].append(Individual_student[2][0])\n",
    "    class_performance[\"Kiswahili\"].append(Individual_student[1][1])\n",
    "    class_performance[\"Kiswahili_grade\"].append(Individual_student[2][1])\n",
    "    class_performance[\"Maths\"].append(Individual_student[1][2])\n",
    "    class_performance[\"Maths_grade\"].append(Individual_student[2][2])\n",
    "    class_performance[\"Science\"].append(Individual_student[1][3])\n",
    "    class_performance[\"Science_grade\"].append(Individual_student[2][3])\n",
    "    class_performance[\"GHC\"].append(Individual_student[1][4])\n",
    "    class_performance[\"GHC_grade\"].append(Individual_student[2][4])\n",
    "    class_performance[\"Total\"].append(Individual_student[3])\n",
    "    \n",
    "    student_number += 1"
   ]
  },
  {
   "cell_type": "code",
   "execution_count": 72,
   "id": "bc6a655e",
   "metadata": {},
   "outputs": [
    {
     "name": "stdout",
     "output_type": "stream",
     "text": [
      "{'Name': ['Vee Nessa', 'Ali Star'], 'English': [98, 100], 'English_grade': ['A', 'A'], 'Kiswahili': [93, 95], 'Kiswahili_grade': ['A', 'A'], 'Maths': [87, 90], 'Maths_grade': ['A', 'A'], 'Science': [89, 89], 'Science_grade': ['A', 'A'], 'GHC': [90, 93], 'GHC_grade': ['A', 'A'], 'Total': [457, 467]}\n"
     ]
    }
   ],
   "source": [
    "print(class_performance)"
   ]
  },
  {
   "cell_type": "code",
   "execution_count": 75,
   "id": "06544760",
   "metadata": {},
   "outputs": [
    {
     "data": {
      "text/html": [
       "<div>\n",
       "<style scoped>\n",
       "    .dataframe tbody tr th:only-of-type {\n",
       "        vertical-align: middle;\n",
       "    }\n",
       "\n",
       "    .dataframe tbody tr th {\n",
       "        vertical-align: top;\n",
       "    }\n",
       "\n",
       "    .dataframe thead th {\n",
       "        text-align: right;\n",
       "    }\n",
       "</style>\n",
       "<table border=\"1\" class=\"dataframe\">\n",
       "  <thead>\n",
       "    <tr style=\"text-align: right;\">\n",
       "      <th></th>\n",
       "      <th>Name</th>\n",
       "      <th>English</th>\n",
       "      <th>English_grade</th>\n",
       "      <th>Kiswahili</th>\n",
       "      <th>Kiswahili_grade</th>\n",
       "      <th>Maths</th>\n",
       "      <th>Maths_grade</th>\n",
       "      <th>Science</th>\n",
       "      <th>Science_grade</th>\n",
       "      <th>GHC</th>\n",
       "      <th>GHC_grade</th>\n",
       "      <th>Total</th>\n",
       "    </tr>\n",
       "  </thead>\n",
       "  <tbody>\n",
       "    <tr>\n",
       "      <th>0</th>\n",
       "      <td>Vee Nessa</td>\n",
       "      <td>98</td>\n",
       "      <td>A</td>\n",
       "      <td>93</td>\n",
       "      <td>A</td>\n",
       "      <td>87</td>\n",
       "      <td>A</td>\n",
       "      <td>89</td>\n",
       "      <td>A</td>\n",
       "      <td>90</td>\n",
       "      <td>A</td>\n",
       "      <td>457</td>\n",
       "    </tr>\n",
       "    <tr>\n",
       "      <th>1</th>\n",
       "      <td>Ali Star</td>\n",
       "      <td>100</td>\n",
       "      <td>A</td>\n",
       "      <td>95</td>\n",
       "      <td>A</td>\n",
       "      <td>90</td>\n",
       "      <td>A</td>\n",
       "      <td>89</td>\n",
       "      <td>A</td>\n",
       "      <td>93</td>\n",
       "      <td>A</td>\n",
       "      <td>467</td>\n",
       "    </tr>\n",
       "  </tbody>\n",
       "</table>\n",
       "</div>"
      ],
      "text/plain": [
       "        Name  English English_grade  Kiswahili Kiswahili_grade  Maths  \\\n",
       "0  Vee Nessa       98             A         93               A     87   \n",
       "1   Ali Star      100             A         95               A     90   \n",
       "\n",
       "  Maths_grade  Science Science_grade  GHC GHC_grade  Total  \n",
       "0           A       89             A   90         A    457  \n",
       "1           A       89             A   93         A    467  "
      ]
     },
     "execution_count": 75,
     "metadata": {},
     "output_type": "execute_result"
    }
   ],
   "source": [
    "import pandas as pd\n",
    "df = pd.DataFrame(class_performance)\n",
    "df"
   ]
  },
  {
   "cell_type": "code",
   "execution_count": null,
   "id": "217d3d61",
   "metadata": {},
   "outputs": [],
   "source": []
  }
 ],
 "metadata": {
  "kernelspec": {
   "display_name": "Python 3 (ipykernel)",
   "language": "python",
   "name": "python3"
  },
  "language_info": {
   "codemirror_mode": {
    "name": "ipython",
    "version": 3
   },
   "file_extension": ".py",
   "mimetype": "text/x-python",
   "name": "python",
   "nbconvert_exporter": "python",
   "pygments_lexer": "ipython3",
   "version": "3.11.3"
  }
 },
 "nbformat": 4,
 "nbformat_minor": 5
}
